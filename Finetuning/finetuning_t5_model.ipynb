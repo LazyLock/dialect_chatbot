{
 "cells": [
  {
   "cell_type": "code",
   "execution_count": 1,
   "id": "c4c507fb",
   "metadata": {
    "_cell_guid": "b1076dfc-b9ad-4769-8c92-a6c4dae69d19",
    "_uuid": "8f2839f25d086af736a60e9eeb907d3b93b6e0e5",
    "execution": {
     "iopub.execute_input": "2024-08-20T09:44:14.994906Z",
     "iopub.status.busy": "2024-08-20T09:44:14.994577Z",
     "iopub.status.idle": "2024-08-20T09:44:15.699124Z",
     "shell.execute_reply": "2024-08-20T09:44:15.698112Z"
    },
    "papermill": {
     "duration": 0.71551,
     "end_time": "2024-08-20T09:44:15.701211",
     "exception": false,
     "start_time": "2024-08-20T09:44:14.985701",
     "status": "completed"
    },
    "tags": []
   },
   "outputs": [
    {
     "name": "stdout",
     "output_type": "stream",
     "text": [
      "/kaggle/input/kubig-2024-summer/.parquet\n"
     ]
    }
   ],
   "source": [
    "# This Python 3 environment comes with many helpful analytics libraries installed\n",
    "# It is defined by the kaggle/python Docker image: https://github.com/kaggle/docker-python\n",
    "# For example, here's several helpful packages to load\n",
    "\n",
    "import numpy as np # linear algebra\n",
    "import pandas as pd # data processing, CSV file I/O (e.g. pd.read_csv)\n",
    "\n",
    "# Input data files are available in the read-only \"../input/\" directory\n",
    "# For example, running this (by clicking run or pressing Shift+Enter) will list all files under the input directory\n",
    "\n",
    "import os\n",
    "for dirname, _, filenames in os.walk('/kaggle/input'):\n",
    "    for filename in filenames:\n",
    "        print(os.path.join(dirname, filename))\n",
    "\n",
    "# You can write up to 20GB to the current directory (/kaggle/working/) that gets preserved as output when you create a version using \"Save & Run All\" \n",
    "# You can also write temporary files to /kaggle/temp/, but they won't be saved outside of the current session"
   ]
  },
  {
   "cell_type": "code",
   "execution_count": 2,
   "id": "ead991d4",
   "metadata": {
    "execution": {
     "iopub.execute_input": "2024-08-20T09:44:15.716688Z",
     "iopub.status.busy": "2024-08-20T09:44:15.716058Z",
     "iopub.status.idle": "2024-08-20T09:44:17.421880Z",
     "shell.execute_reply": "2024-08-20T09:44:17.420909Z"
    },
    "papermill": {
     "duration": 1.716012,
     "end_time": "2024-08-20T09:44:17.424323",
     "exception": false,
     "start_time": "2024-08-20T09:44:15.708311",
     "status": "completed"
    },
    "tags": []
   },
   "outputs": [],
   "source": [
    "data = pd.read_parquet(\"/kaggle/input/kubig-2024-summer/.parquet\")"
   ]
  },
  {
   "cell_type": "code",
   "execution_count": 3,
   "id": "bf3890fd",
   "metadata": {
    "execution": {
     "iopub.execute_input": "2024-08-20T09:44:17.439815Z",
     "iopub.status.busy": "2024-08-20T09:44:17.439238Z",
     "iopub.status.idle": "2024-08-20T09:44:17.459287Z",
     "shell.execute_reply": "2024-08-20T09:44:17.458460Z"
    },
    "papermill": {
     "duration": 0.029908,
     "end_time": "2024-08-20T09:44:17.461294",
     "exception": false,
     "start_time": "2024-08-20T09:44:17.431386",
     "status": "completed"
    },
    "tags": []
   },
   "outputs": [
    {
     "data": {
      "text/html": [
       "<div>\n",
       "<style scoped>\n",
       "    .dataframe tbody tr th:only-of-type {\n",
       "        vertical-align: middle;\n",
       "    }\n",
       "\n",
       "    .dataframe tbody tr th {\n",
       "        vertical-align: top;\n",
       "    }\n",
       "\n",
       "    .dataframe thead th {\n",
       "        text-align: right;\n",
       "    }\n",
       "</style>\n",
       "<table border=\"1\" class=\"dataframe\">\n",
       "  <thead>\n",
       "    <tr style=\"text-align: right;\">\n",
       "      <th></th>\n",
       "      <th>speaker_1</th>\n",
       "      <th>speaker_2</th>\n",
       "      <th>speaker_2_eojeol_sum</th>\n",
       "    </tr>\n",
       "  </thead>\n",
       "  <tbody>\n",
       "    <tr>\n",
       "      <th>0</th>\n",
       "      <td>자 음식을 멀 좋아하느냐 하면은 나는 사실은 다 좋아합니다 다 좋아하는데 특히 육류...</td>\n",
       "      <td>아 자기 아 오리를 싫어했었구나</td>\n",
       "      <td>0</td>\n",
       "    </tr>\n",
       "    <tr>\n",
       "      <th>1</th>\n",
       "      <td>머 못 먹 그리고 모든걸 다 좋아하는 데 즐기진 않는다</td>\n",
       "      <td>즐기진 않는다 자기는 나하고 반대네 나는 야채를 좋아하거든</td>\n",
       "      <td>0</td>\n",
       "    </tr>\n",
       "    <tr>\n",
       "      <th>3</th>\n",
       "      <td>머라노 그 곁들어 먹는</td>\n",
       "      <td>곁들어먹는거 근데 야채를 많이 먹어야 건강해요</td>\n",
       "      <td>0</td>\n",
       "    </tr>\n",
       "    <tr>\n",
       "      <th>5</th>\n",
       "      <td>그래서 음식에 가린다는 것은 나는 한편으로 불행하다 생각합니다 아니 어쩔수 없이 먹...</td>\n",
       "      <td>그러면 사실은 우리는 뭐 없어서 못 묵지</td>\n",
       "      <td>1</td>\n",
       "    </tr>\n",
       "    <tr>\n",
       "      <th>7</th>\n",
       "      <td>밥을 챙겨먹는 생각도 의미 없다고 생각해 영양분이 되고 배가 부르면은 한 끼 식사로...</td>\n",
       "      <td>근데 나는 그기서 쪼끔 반대하는기 머냐면 이 인제 밥이 탄수화물이잖아 탄수화물인데 ...</td>\n",
       "      <td>2</td>\n",
       "    </tr>\n",
       "    <tr>\n",
       "      <th>...</th>\n",
       "      <td>...</td>\n",
       "      <td>...</td>\n",
       "      <td>...</td>\n",
       "    </tr>\n",
       "    <tr>\n",
       "      <th>113814</th>\n",
       "      <td>요즘에 트로트가 진짜 많이 이렇게 대세잖아요 방송 막 틀어보면 뭐 방송 상사 뭐 삼...</td>\n",
       "      <td>아 내가 임영웅을 알았는 거는 미스터 트롯 그 프로를 보면서 알았는데 야가 이 사람...</td>\n",
       "      <td>93</td>\n",
       "    </tr>\n",
       "    <tr>\n",
       "      <th>113815</th>\n",
       "      <td>별로 저는 그거 노래 그렇게 막 잘하 아 잘하는 건 알겠는데 근데 막 계속 보고 싶...</td>\n",
       "      <td>내가 그 당시에는 임영웅 영웅이한테 빠져 갖고 다른 사람이 안 보여 가주고 몰랐는데...</td>\n",
       "      <td>64</td>\n",
       "    </tr>\n",
       "    <tr>\n",
       "      <th>113816</th>\n",
       "      <td>근데 나는 엄마가 그렇게 누군가를 좋아하고 관심있게 보고 뭐 이러는 게 진짜 조금 ...</td>\n",
       "      <td>배우 중에는 내가 영화고 드라마고 이런 거를 잘 안 보기 때문에 나는 좋아하는 사람...</td>\n",
       "      <td>7</td>\n",
       "    </tr>\n",
       "    <tr>\n",
       "      <th>113817</th>\n",
       "      <td>나는 요즘에는 유아인 예전에 그 사도나 배테랑 그때 이천십오 년도에 개봉했을 때 그...</td>\n",
       "      <td>개그맨은 옛날에는 우리가 그거 저기 개그 프로 근데 뭐 제목은 내가 모르겠는데 뭐 ...</td>\n",
       "      <td>26</td>\n",
       "    </tr>\n",
       "    <tr>\n",
       "      <th>113818</th>\n",
       "      <td>엄마는 그러면 놀면 어때라는 그 아니 아 맞지 놀면 어때 맞지 유 유재석이 나오는 ...</td>\n",
       "      <td>아 나는 유재석이라카는 그 사람 이미지가 매 이래 찬카 착한 걸로 이르케 보여주고 ...</td>\n",
       "      <td>20</td>\n",
       "    </tr>\n",
       "  </tbody>\n",
       "</table>\n",
       "<p>94448 rows × 3 columns</p>\n",
       "</div>"
      ],
      "text/plain": [
       "                                                speaker_1  \\\n",
       "0       자 음식을 멀 좋아하느냐 하면은 나는 사실은 다 좋아합니다 다 좋아하는데 특히 육류...   \n",
       "1                          머 못 먹 그리고 모든걸 다 좋아하는 데 즐기진 않는다   \n",
       "3                                            머라노 그 곁들어 먹는   \n",
       "5       그래서 음식에 가린다는 것은 나는 한편으로 불행하다 생각합니다 아니 어쩔수 없이 먹...   \n",
       "7       밥을 챙겨먹는 생각도 의미 없다고 생각해 영양분이 되고 배가 부르면은 한 끼 식사로...   \n",
       "...                                                   ...   \n",
       "113814  요즘에 트로트가 진짜 많이 이렇게 대세잖아요 방송 막 틀어보면 뭐 방송 상사 뭐 삼...   \n",
       "113815  별로 저는 그거 노래 그렇게 막 잘하 아 잘하는 건 알겠는데 근데 막 계속 보고 싶...   \n",
       "113816  근데 나는 엄마가 그렇게 누군가를 좋아하고 관심있게 보고 뭐 이러는 게 진짜 조금 ...   \n",
       "113817  나는 요즘에는 유아인 예전에 그 사도나 배테랑 그때 이천십오 년도에 개봉했을 때 그...   \n",
       "113818  엄마는 그러면 놀면 어때라는 그 아니 아 맞지 놀면 어때 맞지 유 유재석이 나오는 ...   \n",
       "\n",
       "                                                speaker_2  \\\n",
       "0                                       아 자기 아 오리를 싫어했었구나   \n",
       "1                        즐기진 않는다 자기는 나하고 반대네 나는 야채를 좋아하거든   \n",
       "3                               곁들어먹는거 근데 야채를 많이 먹어야 건강해요   \n",
       "5                                  그러면 사실은 우리는 뭐 없어서 못 묵지   \n",
       "7       근데 나는 그기서 쪼끔 반대하는기 머냐면 이 인제 밥이 탄수화물이잖아 탄수화물인데 ...   \n",
       "...                                                   ...   \n",
       "113814  아 내가 임영웅을 알았는 거는 미스터 트롯 그 프로를 보면서 알았는데 야가 이 사람...   \n",
       "113815  내가 그 당시에는 임영웅 영웅이한테 빠져 갖고 다른 사람이 안 보여 가주고 몰랐는데...   \n",
       "113816  배우 중에는 내가 영화고 드라마고 이런 거를 잘 안 보기 때문에 나는 좋아하는 사람...   \n",
       "113817  개그맨은 옛날에는 우리가 그거 저기 개그 프로 근데 뭐 제목은 내가 모르겠는데 뭐 ...   \n",
       "113818  아 나는 유재석이라카는 그 사람 이미지가 매 이래 찬카 착한 걸로 이르케 보여주고 ...   \n",
       "\n",
       "        speaker_2_eojeol_sum  \n",
       "0                          0  \n",
       "1                          0  \n",
       "3                          0  \n",
       "5                          1  \n",
       "7                          2  \n",
       "...                      ...  \n",
       "113814                    93  \n",
       "113815                    64  \n",
       "113816                     7  \n",
       "113817                    26  \n",
       "113818                    20  \n",
       "\n",
       "[94448 rows x 3 columns]"
      ]
     },
     "execution_count": 3,
     "metadata": {},
     "output_type": "execute_result"
    }
   ],
   "source": [
    "data"
   ]
  },
  {
   "cell_type": "code",
   "execution_count": 4,
   "id": "88cd24b3",
   "metadata": {
    "execution": {
     "iopub.execute_input": "2024-08-20T09:44:17.477479Z",
     "iopub.status.busy": "2024-08-20T09:44:17.477011Z",
     "iopub.status.idle": "2024-08-20T09:44:18.619448Z",
     "shell.execute_reply": "2024-08-20T09:44:18.618332Z"
    },
    "papermill": {
     "duration": 1.152546,
     "end_time": "2024-08-20T09:44:18.621443",
     "exception": false,
     "start_time": "2024-08-20T09:44:17.468897",
     "status": "completed"
    },
    "tags": []
   },
   "outputs": [
    {
     "name": "stdout",
     "output_type": "stream",
     "text": [
      "[11. 32. 99.]\n",
      "[ 11.  34. 103.]\n",
      "[0. 1. 2.]\n",
      "45960\n"
     ]
    }
   ],
   "source": [
    "# basic EDA\n",
    "\n",
    "data_2 = data.copy()\n",
    "\n",
    "data_2[\"speaker_1_length\"] = data_2[\"speaker_1\"].apply(lambda x : len(x.split(\" \")))\n",
    "data_2[\"speaker_2_length\"] = data_2[\"speaker_2\"].apply(lambda x : len(x.split(\" \")))\n",
    "\n",
    "speaker_1_length = list(data_2[\"speaker_1_length\"])\n",
    "speaker_2_length = list(data_2[\"speaker_2_length\"])\n",
    "\n",
    "quartiles_1 = np.percentile(speaker_1_length, [25, 50, 75])\n",
    "quartiles_2 = np.percentile(speaker_2_length, [25, 50, 75])\n",
    "quartiles_3 = np.percentile(data_2[\"speaker_2_eojeol_sum\"], [25, 50, 75])\n",
    "\n",
    "# 사분위수\n",
    "print(quartiles_1)\n",
    "print(quartiles_2)\n",
    "print(quartiles_3)\n",
    "\n",
    "print(len(data_2[data_2[\"speaker_2_eojeol_sum\"] == 0]))"
   ]
  },
  {
   "cell_type": "code",
   "execution_count": 5,
   "id": "fb9f741b",
   "metadata": {
    "execution": {
     "iopub.execute_input": "2024-08-20T09:44:18.637721Z",
     "iopub.status.busy": "2024-08-20T09:44:18.637058Z",
     "iopub.status.idle": "2024-08-20T09:44:18.641078Z",
     "shell.execute_reply": "2024-08-20T09:44:18.640181Z"
    },
    "papermill": {
     "duration": 0.014155,
     "end_time": "2024-08-20T09:44:18.643047",
     "exception": false,
     "start_time": "2024-08-20T09:44:18.628892",
     "status": "completed"
    },
    "tags": []
   },
   "outputs": [],
   "source": [
    "# data_2 = data_2[data_2[\"speaker_1_length\"] > 11]\n",
    "# data_2 = data_2[data_2[\"speaker_2_length\"] > 11]\n",
    "\n",
    "# data_2 = data_2[data_2[\"speaker_1_length\"] < 129]\n",
    "# data_2 = data_2[data_2[\"speaker_2_length\"] < 129]\n",
    "\n",
    "# data_2 = data_2[data_2[\"speaker_2_eojeol_sum\"] > 3]"
   ]
  },
  {
   "cell_type": "code",
   "execution_count": 6,
   "id": "71d6b6de",
   "metadata": {
    "execution": {
     "iopub.execute_input": "2024-08-20T09:44:18.658851Z",
     "iopub.status.busy": "2024-08-20T09:44:18.658313Z",
     "iopub.status.idle": "2024-08-20T09:44:18.667045Z",
     "shell.execute_reply": "2024-08-20T09:44:18.666403Z"
    },
    "papermill": {
     "duration": 0.018684,
     "end_time": "2024-08-20T09:44:18.669023",
     "exception": false,
     "start_time": "2024-08-20T09:44:18.650339",
     "status": "completed"
    },
    "tags": []
   },
   "outputs": [],
   "source": [
    "data_2 = data_2[data_2[\"speaker_2_eojeol_sum\"] > 5]"
   ]
  },
  {
   "cell_type": "code",
   "execution_count": 7,
   "id": "726084fd",
   "metadata": {
    "execution": {
     "iopub.execute_input": "2024-08-20T09:44:18.684773Z",
     "iopub.status.busy": "2024-08-20T09:44:18.684236Z",
     "iopub.status.idle": "2024-08-20T09:44:18.703875Z",
     "shell.execute_reply": "2024-08-20T09:44:18.703022Z"
    },
    "papermill": {
     "duration": 0.030006,
     "end_time": "2024-08-20T09:44:18.706313",
     "exception": false,
     "start_time": "2024-08-20T09:44:18.676307",
     "status": "completed"
    },
    "tags": []
   },
   "outputs": [
    {
     "name": "stdout",
     "output_type": "stream",
     "text": [
      "<class 'pandas.core.frame.DataFrame'>\n",
      "Index: 9975 entries, 10 to 113818\n",
      "Data columns (total 2 columns):\n",
      " #   Column     Non-Null Count  Dtype \n",
      "---  ------     --------------  ----- \n",
      " 0   speaker_1  9975 non-null   object\n",
      " 1   speaker_2  9975 non-null   object\n",
      "dtypes: object(2)\n",
      "memory usage: 233.8+ KB\n"
     ]
    }
   ],
   "source": [
    "data_2 = data_2[[\"speaker_1\", \"speaker_2\"]]\n",
    "data_2.info()"
   ]
  },
  {
   "cell_type": "code",
   "execution_count": 8,
   "id": "38d545bb",
   "metadata": {
    "execution": {
     "iopub.execute_input": "2024-08-20T09:44:18.722644Z",
     "iopub.status.busy": "2024-08-20T09:44:18.722112Z",
     "iopub.status.idle": "2024-08-20T10:25:35.658219Z",
     "shell.execute_reply": "2024-08-20T10:25:35.657225Z"
    },
    "papermill": {
     "duration": 2476.946706,
     "end_time": "2024-08-20T10:25:35.660643",
     "exception": false,
     "start_time": "2024-08-20T09:44:18.713937",
     "status": "completed"
    },
    "tags": []
   },
   "outputs": [
    {
     "name": "stdout",
     "output_type": "stream",
     "text": [
      "Using device: cuda\n"
     ]
    },
    {
     "data": {
      "application/vnd.jupyter.widget-view+json": {
       "model_id": "5d56229d42064cdb9495cc56ef750939",
       "version_major": 2,
       "version_minor": 0
      },
      "text/plain": [
       "tokenizer_config.json:   0%|          | 0.00/209 [00:00<?, ?B/s]"
      ]
     },
     "metadata": {},
     "output_type": "display_data"
    },
    {
     "data": {
      "application/vnd.jupyter.widget-view+json": {
       "model_id": "20d00da8dc784d048bc575e55f21781a",
       "version_major": 2,
       "version_minor": 0
      },
      "text/plain": [
       "tokenizer.json:   0%|          | 0.00/2.90M [00:00<?, ?B/s]"
      ]
     },
     "metadata": {},
     "output_type": "display_data"
    },
    {
     "data": {
      "application/vnd.jupyter.widget-view+json": {
       "model_id": "de1c61455db748569388a5bdfbc1677f",
       "version_major": 2,
       "version_minor": 0
      },
      "text/plain": [
       "special_tokens_map.json:   0%|          | 0.00/67.0 [00:00<?, ?B/s]"
      ]
     },
     "metadata": {},
     "output_type": "display_data"
    },
    {
     "data": {
      "application/vnd.jupyter.widget-view+json": {
       "model_id": "aaebaddb8a294f57b5ed856b39f880f7",
       "version_major": 2,
       "version_minor": 0
      },
      "text/plain": [
       "config.json:   0%|          | 0.00/728 [00:00<?, ?B/s]"
      ]
     },
     "metadata": {},
     "output_type": "display_data"
    },
    {
     "data": {
      "application/vnd.jupyter.widget-view+json": {
       "model_id": "71735281b4b54a7ca765d862bd47f917",
       "version_major": 2,
       "version_minor": 0
      },
      "text/plain": [
       "pytorch_model.bin:   0%|          | 0.00/1.10G [00:00<?, ?B/s]"
      ]
     },
     "metadata": {},
     "output_type": "display_data"
    },
    {
     "name": "stderr",
     "output_type": "stream",
     "text": [
      "/opt/conda/lib/python3.10/site-packages/torch/_utils.py:831: UserWarning: TypedStorage is deprecated. It will be removed in the future and UntypedStorage will be the only storage class. This should only matter to you if you are using storages directly.  To access UntypedStorage directly, use tensor.untyped_storage() instead of tensor.storage()\n",
      "  return self.fget.__get__(instance, owner)()\n",
      "/opt/conda/lib/python3.10/site-packages/transformers/optimization.py:591: FutureWarning: This implementation of AdamW is deprecated and will be removed in a future version. Use the PyTorch implementation torch.optim.AdamW instead, or set `no_deprecation_warning=True` to disable this warning\n",
      "  warnings.warn(\n",
      "100%|██████████| 2494/2494 [08:05<00:00,  5.13it/s]\n",
      "100%|██████████| 2494/2494 [08:08<00:00,  5.11it/s]\n",
      "100%|██████████| 2494/2494 [08:08<00:00,  5.10it/s]\n",
      "100%|██████████| 2494/2494 [08:07<00:00,  5.11it/s]\n",
      "100%|██████████| 2494/2494 [08:06<00:00,  5.12it/s]\n"
     ]
    }
   ],
   "source": [
    "import pandas as pd\n",
    "import torch\n",
    "\n",
    "from transformers import T5TokenizerFast, T5ForConditionalGeneration\n",
    "from transformers import AdamW\n",
    "\n",
    "from tqdm import tqdm\n",
    "from torch.utils.data import DataLoader, Dataset\n",
    "\n",
    "# 디바이스 설정\n",
    "device = 'cuda' if torch.cuda.is_available() else 'cpu'\n",
    "print(f\"Using device: {device}\")\n",
    "\n",
    "\n",
    "# 데이터셋 클래스 정의\n",
    "class CustomDataset(Dataset):\n",
    "    def __init__(self, data, tokenizer, max_length=128):\n",
    "        self.data = data\n",
    "        self.tokenizer = tokenizer\n",
    "        self.max_length = max_length\n",
    "\n",
    "    def __len__(self):\n",
    "        return len(self.data)\n",
    "\n",
    "    def __getitem__(self, idx):\n",
    "        questions = self.data.iloc[idx]['speaker_1']\n",
    "        answers = self.data.iloc[idx]['speaker_2']\n",
    "\n",
    "        # 토큰 수를 max_length에 맞춰서 자르거나 패딩\n",
    "        inputs = self.tokenizer(questions, max_length=self.max_length, truncation=True, padding='max_length', return_tensors='pt')\n",
    "        labels = self.tokenizer(answers, max_length=self.max_length, truncation=True, padding='max_length', return_tensors='pt')\n",
    "\n",
    "        return {\n",
    "            'input_ids': inputs.input_ids[0],\n",
    "            'labels': labels.input_ids[0]\n",
    "        }\n",
    "\n",
    "\n",
    "# 토크나이저와 모델 로드\n",
    "# tokenizer = T5TokenizerFast.from_pretrained('paust/pko-chat-t5-base')\n",
    "# model = T5ForConditionalGeneration.from_pretrained('paust/pko-chat-t5-base')\n",
    "\n",
    "tokenizer = T5TokenizerFast.from_pretrained('paust/pko-t5-base')\n",
    "model = T5ForConditionalGeneration.from_pretrained('paust/pko-t5-base')\n",
    "model.to(device)\n",
    "\n",
    "\n",
    "# tokenizer = T5TokenizerFast.from_pretrained('paust/pko-t5-base')\n",
    "# model = T5ForConditionalGeneration.from_pretrained('paust/pko-t5-base')\n",
    "\n",
    "# 학습 설정\n",
    "optimizer = AdamW(model.parameters(), lr=1e-4)\n",
    "criterion = torch.nn.CrossEntropyLoss()\n",
    "\n",
    "num_epochs = 5\n",
    "log_interval = 100\n",
    "checkpoint_interval = 0.5  # 0.5 에폭마다 체크포인트 저장\n",
    "\n",
    "# DataLoader를 사용하여 데이터 로드\n",
    "batch_size = 4\n",
    "dataset = CustomDataset(data_2, tokenizer)\n",
    "data_loader = DataLoader(dataset, batch_size=batch_size, shuffle=True)\n",
    "\n",
    "# 학습 루프에서 데이터 로더 사용\n",
    "total_steps = 0\n",
    "for epoch in range(num_epochs):\n",
    "    for batch in tqdm(data_loader, total=len(data_loader)):\n",
    "        input_ids = batch['input_ids'].to(device)\n",
    "        labels = batch['labels'].to(device)\n",
    "\n",
    "        # 모델 학습\n",
    "        outputs = model(input_ids=input_ids, labels=labels)\n",
    "        loss = outputs.loss\n",
    "\n",
    "        # 역전파 및 가중치 업데이트\n",
    "        optimizer.zero_grad()\n",
    "        loss.backward()\n",
    "        optimizer.step()\n",
    "\n",
    "        total_steps += 1\n",
    "\n",
    "        # 0.5 에폭마다 체크포인트 저장\n",
    "        if total_steps % int(len(dataset) / (batch_size * 2)) == 0:\n",
    "            checkpoint_dir = f\"checkpoint_{total_steps}\"\n",
    "            model.save_pretrained(checkpoint_dir)"
   ]
  },
  {
   "cell_type": "code",
   "execution_count": 9,
   "id": "47c1f565",
   "metadata": {
    "execution": {
     "iopub.execute_input": "2024-08-20T10:25:37.681603Z",
     "iopub.status.busy": "2024-08-20T10:25:37.681103Z",
     "iopub.status.idle": "2024-08-20T10:25:39.367084Z",
     "shell.execute_reply": "2024-08-20T10:25:39.365819Z"
    },
    "papermill": {
     "duration": 2.725314,
     "end_time": "2024-08-20T10:25:39.371290",
     "exception": false,
     "start_time": "2024-08-20T10:25:36.645976",
     "status": "completed"
    },
    "tags": []
   },
   "outputs": [],
   "source": [
    "# 모델 상태 사전을 저장할 경로 지정\n",
    "save_path = '/kaggle/working/t5_finetuning_3.pth'\n",
    "\n",
    "# 모델 상태 사전 저장\n",
    "torch.save(model.state_dict(), save_path)\n",
    "\n",
    "# # 저장된 상태 사전 로드\n",
    "# model.load_state_dict(torch.load('t5_finetuning.pth'))"
   ]
  },
  {
   "cell_type": "code",
   "execution_count": 10,
   "id": "b702d5da",
   "metadata": {
    "execution": {
     "iopub.execute_input": "2024-08-20T10:25:41.617806Z",
     "iopub.status.busy": "2024-08-20T10:25:41.617439Z",
     "iopub.status.idle": "2024-08-20T10:25:41.623824Z",
     "shell.execute_reply": "2024-08-20T10:25:41.623043Z"
    },
    "papermill": {
     "duration": 1.019486,
     "end_time": "2024-08-20T10:25:41.625850",
     "exception": false,
     "start_time": "2024-08-20T10:25:40.606364",
     "status": "completed"
    },
    "tags": []
   },
   "outputs": [
    {
     "data": {
      "text/html": [
       "<a href='t5_finetuning_3.pth' target='_blank'>t5_finetuning_3.pth</a><br>"
      ],
      "text/plain": [
       "/kaggle/working/t5_finetuning_3.pth"
      ]
     },
     "execution_count": 10,
     "metadata": {},
     "output_type": "execute_result"
    }
   ],
   "source": [
    "# pth 파일 다운로드를 위한 코드\n",
    "\n",
    "import os\n",
    "os.chdir(r'/kaggle/working')\n",
    "\n",
    "# %cd /kaggle/working\n",
    "# Now save your required files in this Directory .\n",
    "# Then run the following cell\n",
    "from IPython.display import FileLink\n",
    "\n",
    "FileLink(r't5_finetuning_3.pth')"
   ]
  },
  {
   "cell_type": "code",
   "execution_count": 11,
   "id": "bf0ac779",
   "metadata": {
    "execution": {
     "iopub.execute_input": "2024-08-20T10:25:43.658611Z",
     "iopub.status.busy": "2024-08-20T10:25:43.657964Z",
     "iopub.status.idle": "2024-08-20T10:25:43.671710Z",
     "shell.execute_reply": "2024-08-20T10:25:43.670879Z"
    },
    "papermill": {
     "duration": 1.049283,
     "end_time": "2024-08-20T10:25:43.673680",
     "exception": false,
     "start_time": "2024-08-20T10:25:42.624397",
     "status": "completed"
    },
    "tags": []
   },
   "outputs": [
    {
     "data": {
      "text/plain": [
       "T5ForConditionalGeneration(\n",
       "  (shared): Embedding(50358, 768)\n",
       "  (encoder): T5Stack(\n",
       "    (embed_tokens): Embedding(50358, 768)\n",
       "    (block): ModuleList(\n",
       "      (0): T5Block(\n",
       "        (layer): ModuleList(\n",
       "          (0): T5LayerSelfAttention(\n",
       "            (SelfAttention): T5Attention(\n",
       "              (q): Linear(in_features=768, out_features=768, bias=False)\n",
       "              (k): Linear(in_features=768, out_features=768, bias=False)\n",
       "              (v): Linear(in_features=768, out_features=768, bias=False)\n",
       "              (o): Linear(in_features=768, out_features=768, bias=False)\n",
       "              (relative_attention_bias): Embedding(32, 12)\n",
       "            )\n",
       "            (layer_norm): T5LayerNorm()\n",
       "            (dropout): Dropout(p=0.1, inplace=False)\n",
       "          )\n",
       "          (1): T5LayerFF(\n",
       "            (DenseReluDense): T5DenseGatedActDense(\n",
       "              (wi_0): Linear(in_features=768, out_features=2048, bias=False)\n",
       "              (wi_1): Linear(in_features=768, out_features=2048, bias=False)\n",
       "              (wo): Linear(in_features=2048, out_features=768, bias=False)\n",
       "              (dropout): Dropout(p=0.1, inplace=False)\n",
       "              (act): NewGELUActivation()\n",
       "            )\n",
       "            (layer_norm): T5LayerNorm()\n",
       "            (dropout): Dropout(p=0.1, inplace=False)\n",
       "          )\n",
       "        )\n",
       "      )\n",
       "      (1-11): 11 x T5Block(\n",
       "        (layer): ModuleList(\n",
       "          (0): T5LayerSelfAttention(\n",
       "            (SelfAttention): T5Attention(\n",
       "              (q): Linear(in_features=768, out_features=768, bias=False)\n",
       "              (k): Linear(in_features=768, out_features=768, bias=False)\n",
       "              (v): Linear(in_features=768, out_features=768, bias=False)\n",
       "              (o): Linear(in_features=768, out_features=768, bias=False)\n",
       "            )\n",
       "            (layer_norm): T5LayerNorm()\n",
       "            (dropout): Dropout(p=0.1, inplace=False)\n",
       "          )\n",
       "          (1): T5LayerFF(\n",
       "            (DenseReluDense): T5DenseGatedActDense(\n",
       "              (wi_0): Linear(in_features=768, out_features=2048, bias=False)\n",
       "              (wi_1): Linear(in_features=768, out_features=2048, bias=False)\n",
       "              (wo): Linear(in_features=2048, out_features=768, bias=False)\n",
       "              (dropout): Dropout(p=0.1, inplace=False)\n",
       "              (act): NewGELUActivation()\n",
       "            )\n",
       "            (layer_norm): T5LayerNorm()\n",
       "            (dropout): Dropout(p=0.1, inplace=False)\n",
       "          )\n",
       "        )\n",
       "      )\n",
       "    )\n",
       "    (final_layer_norm): T5LayerNorm()\n",
       "    (dropout): Dropout(p=0.1, inplace=False)\n",
       "  )\n",
       "  (decoder): T5Stack(\n",
       "    (embed_tokens): Embedding(50358, 768)\n",
       "    (block): ModuleList(\n",
       "      (0): T5Block(\n",
       "        (layer): ModuleList(\n",
       "          (0): T5LayerSelfAttention(\n",
       "            (SelfAttention): T5Attention(\n",
       "              (q): Linear(in_features=768, out_features=768, bias=False)\n",
       "              (k): Linear(in_features=768, out_features=768, bias=False)\n",
       "              (v): Linear(in_features=768, out_features=768, bias=False)\n",
       "              (o): Linear(in_features=768, out_features=768, bias=False)\n",
       "              (relative_attention_bias): Embedding(32, 12)\n",
       "            )\n",
       "            (layer_norm): T5LayerNorm()\n",
       "            (dropout): Dropout(p=0.1, inplace=False)\n",
       "          )\n",
       "          (1): T5LayerCrossAttention(\n",
       "            (EncDecAttention): T5Attention(\n",
       "              (q): Linear(in_features=768, out_features=768, bias=False)\n",
       "              (k): Linear(in_features=768, out_features=768, bias=False)\n",
       "              (v): Linear(in_features=768, out_features=768, bias=False)\n",
       "              (o): Linear(in_features=768, out_features=768, bias=False)\n",
       "            )\n",
       "            (layer_norm): T5LayerNorm()\n",
       "            (dropout): Dropout(p=0.1, inplace=False)\n",
       "          )\n",
       "          (2): T5LayerFF(\n",
       "            (DenseReluDense): T5DenseGatedActDense(\n",
       "              (wi_0): Linear(in_features=768, out_features=2048, bias=False)\n",
       "              (wi_1): Linear(in_features=768, out_features=2048, bias=False)\n",
       "              (wo): Linear(in_features=2048, out_features=768, bias=False)\n",
       "              (dropout): Dropout(p=0.1, inplace=False)\n",
       "              (act): NewGELUActivation()\n",
       "            )\n",
       "            (layer_norm): T5LayerNorm()\n",
       "            (dropout): Dropout(p=0.1, inplace=False)\n",
       "          )\n",
       "        )\n",
       "      )\n",
       "      (1-11): 11 x T5Block(\n",
       "        (layer): ModuleList(\n",
       "          (0): T5LayerSelfAttention(\n",
       "            (SelfAttention): T5Attention(\n",
       "              (q): Linear(in_features=768, out_features=768, bias=False)\n",
       "              (k): Linear(in_features=768, out_features=768, bias=False)\n",
       "              (v): Linear(in_features=768, out_features=768, bias=False)\n",
       "              (o): Linear(in_features=768, out_features=768, bias=False)\n",
       "            )\n",
       "            (layer_norm): T5LayerNorm()\n",
       "            (dropout): Dropout(p=0.1, inplace=False)\n",
       "          )\n",
       "          (1): T5LayerCrossAttention(\n",
       "            (EncDecAttention): T5Attention(\n",
       "              (q): Linear(in_features=768, out_features=768, bias=False)\n",
       "              (k): Linear(in_features=768, out_features=768, bias=False)\n",
       "              (v): Linear(in_features=768, out_features=768, bias=False)\n",
       "              (o): Linear(in_features=768, out_features=768, bias=False)\n",
       "            )\n",
       "            (layer_norm): T5LayerNorm()\n",
       "            (dropout): Dropout(p=0.1, inplace=False)\n",
       "          )\n",
       "          (2): T5LayerFF(\n",
       "            (DenseReluDense): T5DenseGatedActDense(\n",
       "              (wi_0): Linear(in_features=768, out_features=2048, bias=False)\n",
       "              (wi_1): Linear(in_features=768, out_features=2048, bias=False)\n",
       "              (wo): Linear(in_features=2048, out_features=768, bias=False)\n",
       "              (dropout): Dropout(p=0.1, inplace=False)\n",
       "              (act): NewGELUActivation()\n",
       "            )\n",
       "            (layer_norm): T5LayerNorm()\n",
       "            (dropout): Dropout(p=0.1, inplace=False)\n",
       "          )\n",
       "        )\n",
       "      )\n",
       "    )\n",
       "    (final_layer_norm): T5LayerNorm()\n",
       "    (dropout): Dropout(p=0.1, inplace=False)\n",
       "  )\n",
       "  (lm_head): Linear(in_features=768, out_features=50358, bias=False)\n",
       ")"
      ]
     },
     "execution_count": 11,
     "metadata": {},
     "output_type": "execute_result"
    }
   ],
   "source": [
    "model.eval()"
   ]
  },
  {
   "cell_type": "code",
   "execution_count": 12,
   "id": "5de73c7d",
   "metadata": {
    "execution": {
     "iopub.execute_input": "2024-08-20T10:25:45.755979Z",
     "iopub.status.busy": "2024-08-20T10:25:45.755617Z",
     "iopub.status.idle": "2024-08-20T10:25:45.760620Z",
     "shell.execute_reply": "2024-08-20T10:25:45.759797Z"
    },
    "papermill": {
     "duration": 1.0696,
     "end_time": "2024-08-20T10:25:45.762682",
     "exception": false,
     "start_time": "2024-08-20T10:25:44.693082",
     "status": "completed"
    },
    "tags": []
   },
   "outputs": [],
   "source": [
    "input_text = \"오늘 저녁은 뭘 먹을까?\"\n",
    "input_ids = tokenizer.encode(input_text, return_tensors='pt').to(device)"
   ]
  },
  {
   "cell_type": "code",
   "execution_count": 13,
   "id": "24889b4f",
   "metadata": {
    "execution": {
     "iopub.execute_input": "2024-08-20T10:25:47.848441Z",
     "iopub.status.busy": "2024-08-20T10:25:47.848095Z",
     "iopub.status.idle": "2024-08-20T10:25:50.515598Z",
     "shell.execute_reply": "2024-08-20T10:25:50.514698Z"
    },
    "papermill": {
     "duration": 3.73962,
     "end_time": "2024-08-20T10:25:50.517871",
     "exception": false,
     "start_time": "2024-08-20T10:25:46.778251",
     "status": "completed"
    },
    "tags": []
   },
   "outputs": [
    {
     "name": "stdout",
     "output_type": "stream",
     "text": [
      "Generated text: 오늘 저녁은 또 뭘 먹지 고민이네  오늘 저녁은 또 뭘 먹을까 고민이네  오늘 저녁은 또 뭘 먹을까 고민이네  오늘 저녁은 또 뭘 먹을까 고민이네  오늘 저녁은 또 뭘 먹을까 고민이네  오늘 저녁은 또 뭘 먹을까 고민이네  오늘 저녁은 또 뭘 먹을까 고민이네  오늘 저녁은 또 뭘 먹지 고민이네  오늘 저녁은 또 \n"
     ]
    }
   ],
   "source": [
    "# 문장 생성\n",
    "generated_ids = model.generate(\n",
    "    input_ids=input_ids,\n",
    "    max_length=128,  # 생성할 문장의 최대 길이 설정\n",
    "    num_beams=5,  # 빔 서치에서 사용할 빔 개수 (선택 사항)\n",
    "    early_stopping=True  # 조기 종료 (선택 사항)\n",
    ")\n",
    "\n",
    "# 생성된 토큰을 텍스트로 변환\n",
    "generated_text = tokenizer.decode(generated_ids[0], skip_special_tokens=True)\n",
    "print(\"Generated text:\", generated_text)"
   ]
  },
  {
   "cell_type": "code",
   "execution_count": 14,
   "id": "8e4d2b4a",
   "metadata": {
    "execution": {
     "iopub.execute_input": "2024-08-20T10:25:52.551686Z",
     "iopub.status.busy": "2024-08-20T10:25:52.551334Z",
     "iopub.status.idle": "2024-08-20T10:25:53.531653Z",
     "shell.execute_reply": "2024-08-20T10:25:53.530794Z"
    },
    "papermill": {
     "duration": 2.038568,
     "end_time": "2024-08-20T10:25:53.533926",
     "exception": false,
     "start_time": "2024-08-20T10:25:51.495358",
     "status": "completed"
    },
    "tags": []
   },
   "outputs": [
    {
     "name": "stdout",
     "output_type": "stream",
     "text": [
      "Generated text: 오늘 저녁은 대체 뭘 먹을까 고민이네 음 오늘 저녁은 왠지 치킨을 먹어야 되지 않을까 싶으네 음 그럼 난 오늘은 저녁은 또 \n"
     ]
    }
   ],
   "source": [
    "# 문장 생성 2\n",
    "generated_ids = model.generate(\n",
    "    input_ids,\n",
    "    do_sample=True,\n",
    "    max_length=50,\n",
    "    top_k=10,\n",
    "    top_p=0.95,\n",
    "    num_return_sequences=3\n",
    ")\n",
    "\n",
    "# 생성된 토큰을 텍스트로 변환\n",
    "generated_text = tokenizer.decode(generated_ids[0], skip_special_tokens=True)\n",
    "print(\"Generated text:\", generated_text)"
   ]
  },
  {
   "cell_type": "code",
   "execution_count": 15,
   "id": "ef85dbb1",
   "metadata": {
    "execution": {
     "iopub.execute_input": "2024-08-20T10:25:55.539893Z",
     "iopub.status.busy": "2024-08-20T10:25:55.539528Z",
     "iopub.status.idle": "2024-08-20T10:25:55.544609Z",
     "shell.execute_reply": "2024-08-20T10:25:55.543720Z"
    },
    "papermill": {
     "duration": 1.008292,
     "end_time": "2024-08-20T10:25:55.546508",
     "exception": false,
     "start_time": "2024-08-20T10:25:54.538216",
     "status": "completed"
    },
    "tags": []
   },
   "outputs": [],
   "source": [
    "input_text = \"남북한 관계에 대해서 어떻게 생각해?\"\n",
    "input_ids = tokenizer.encode(input_text, return_tensors='pt').to(device)"
   ]
  },
  {
   "cell_type": "code",
   "execution_count": 16,
   "id": "a7b2c787",
   "metadata": {
    "execution": {
     "iopub.execute_input": "2024-08-20T10:25:57.565423Z",
     "iopub.status.busy": "2024-08-20T10:25:57.565049Z",
     "iopub.status.idle": "2024-08-20T10:25:59.976574Z",
     "shell.execute_reply": "2024-08-20T10:25:59.975494Z"
    },
    "papermill": {
     "duration": 3.397373,
     "end_time": "2024-08-20T10:25:59.978826",
     "exception": false,
     "start_time": "2024-08-20T10:25:56.581453",
     "status": "completed"
    },
    "tags": []
   },
   "outputs": [
    {
     "name": "stdout",
     "output_type": "stream",
     "text": [
      "Generated text: 남북한 관계에 대해서 깊게 생각해본 적은 없지만 그래도 한 번씩 생각은 한 번씩은 생각은 한 번씩은 생각은 한 번씩은 생각은 한 번씩은 생각은 한 번씩은 생각은 한 번씩은 생각은 한 번씩은 생각은 한 번씩은 생각은 한 번씩은 생각은 한 번씩은 해 보는 편이고 그렇게 해 본 \n"
     ]
    }
   ],
   "source": [
    "# 문장 생성\n",
    "generated_ids = model.generate(\n",
    "    input_ids=input_ids,\n",
    "    max_length=128,  # 생성할 문장의 최대 길이 설정\n",
    "    num_beams=5,  # 빔 서치에서 사용할 빔 개수 (선택 사항)\n",
    "    early_stopping=True  # 조기 종료 (선택 사항)\n",
    ")\n",
    "\n",
    "# 생성된 토큰을 텍스트로 변환\n",
    "generated_text = tokenizer.decode(generated_ids[0], skip_special_tokens=True)\n",
    "print(\"Generated text:\", generated_text)"
   ]
  },
  {
   "cell_type": "code",
   "execution_count": 17,
   "id": "1ddee89a",
   "metadata": {
    "execution": {
     "iopub.execute_input": "2024-08-20T10:26:02.016979Z",
     "iopub.status.busy": "2024-08-20T10:26:02.016226Z",
     "iopub.status.idle": "2024-08-20T10:26:15.108579Z",
     "shell.execute_reply": "2024-08-20T10:26:15.107570Z"
    },
    "papermill": {
     "duration": 14.090674,
     "end_time": "2024-08-20T10:26:15.110800",
     "exception": false,
     "start_time": "2024-08-20T10:26:01.020126",
     "status": "completed"
    },
    "tags": []
   },
   "outputs": [
    {
     "name": "stdout",
     "output_type": "stream",
     "text": [
      "Output:\n",
      "----------------------------------------------------------------------------------------------------\n"
     ]
    },
    {
     "name": "stderr",
     "output_type": "stream",
     "text": [
      "2024-08-20 10:26:05.910130: E external/local_xla/xla/stream_executor/cuda/cuda_dnn.cc:9261] Unable to register cuDNN factory: Attempting to register factory for plugin cuDNN when one has already been registered\n",
      "2024-08-20 10:26:05.910259: E external/local_xla/xla/stream_executor/cuda/cuda_fft.cc:607] Unable to register cuFFT factory: Attempting to register factory for plugin cuFFT when one has already been registered\n",
      "2024-08-20 10:26:06.021941: E external/local_xla/xla/stream_executor/cuda/cuda_blas.cc:1515] Unable to register cuBLAS factory: Attempting to register factory for plugin cuBLAS when one has already been registered\n"
     ]
    },
    {
     "name": "stdout",
     "output_type": "stream",
     "text": [
      "0: 저도 그 같은 생각을 가지고 있거든요 저는 먼저 그 햇볕 정책에 대해서 정말 정말 깊이 공감을 하고 정말 그 정말 그 저는 그 저 정말 그 생각을 깊이 공감을 하고 정말 그 이해는 또 이해는 하지만 정말 이해는 하지만 그 이해는 하지만 정말 그 생각 자체가 좀 다른 것 같다고 생각해요 저는 물론 그 정책들이 \n",
      "1: 나는 솔직히 말해서 분단은 솔직히 너무 안타까운 일이라고 생각을 하고 그리고 그것이 현실화 될 수밖에 없기 때문에 그렇게 갈라진 거라고 생각을 하거든 그리고 그 이후에 뭐 중국인가 소련인가 뭐 그런 쪽에 그 부분은 솔직히 말해서 문제시 되지 않는다고 생각해 개인적으로는 개인적으로는 중국이 정말 나쁘다고 생각해 개인적으로는 근데 또 개인적으로는 소련이 정말\n",
      "2: 북한에는 김일성이가 정말 철혈 외교 전술을 잘 알고 있어 그래서 앞으로 통일이 되면 어떻게 될 것인지 정말 굉장히 잘 알고 있네 그다음  뭐 그다음에 그다음  뭐 김일성과 그 가족들 그다음 김일성 형제 그다음 가족들 우리 아들들이 정말 철혈 관계에 있어서 철혈 관계 잘 알고 있네 그다음  뭐 천구백구십 키로 \n"
     ]
    }
   ],
   "source": [
    "# 문장 생성 2\n",
    "generated_ids = model.generate(\n",
    "    input_ids,\n",
    "    do_sample=True,\n",
    "    max_length=128,\n",
    "    top_k=10,\n",
    "    top_p=0.95,\n",
    "    num_return_sequences=3\n",
    ")\n",
    "\n",
    "# 생성된 토큰을 텍스트로 변환\n",
    "print(\"Output:\\n\" + 100 * '-')\n",
    "for i, generated_id in enumerate(generated_ids):\n",
    "  print(\"{}: {}\".format(i, tokenizer.decode(generated_id.tolist(), skip_special_tokens=True)))"
   ]
  },
  {
   "cell_type": "code",
   "execution_count": 18,
   "id": "35c21dbe",
   "metadata": {
    "execution": {
     "iopub.execute_input": "2024-08-20T10:26:17.133327Z",
     "iopub.status.busy": "2024-08-20T10:26:17.132335Z",
     "iopub.status.idle": "2024-08-20T10:26:17.137630Z",
     "shell.execute_reply": "2024-08-20T10:26:17.136789Z"
    },
    "papermill": {
     "duration": 1.050287,
     "end_time": "2024-08-20T10:26:17.139533",
     "exception": false,
     "start_time": "2024-08-20T10:26:16.089246",
     "status": "completed"
    },
    "tags": []
   },
   "outputs": [],
   "source": [
    "input_text = \"저녁 메뉴 추천해줘\"\n",
    "input_ids = tokenizer.encode(input_text, return_tensors='pt').to(device)"
   ]
  },
  {
   "cell_type": "code",
   "execution_count": 19,
   "id": "7ce35f63",
   "metadata": {
    "execution": {
     "iopub.execute_input": "2024-08-20T10:26:19.174457Z",
     "iopub.status.busy": "2024-08-20T10:26:19.173648Z",
     "iopub.status.idle": "2024-08-20T10:26:21.590597Z",
     "shell.execute_reply": "2024-08-20T10:26:21.589501Z"
    },
    "papermill": {
     "duration": 3.45635,
     "end_time": "2024-08-20T10:26:21.592657",
     "exception": false,
     "start_time": "2024-08-20T10:26:18.136307",
     "status": "completed"
    },
    "tags": []
   },
   "outputs": [
    {
     "name": "stdout",
     "output_type": "stream",
     "text": [
      "Generated text: 오늘  오늘  목요일 저녁에 먹어 목요일 저녁에 먹을 저녁 메뉴 추천해줘 목요일 저녁에 먹을 저녁 메뉴 추천해줘 아니면 오늘 저녁에 먹을 저녁 메뉴랑 금요일 저녁에 먹을 저녁 메뉴 추천해줘 아니면 토요일 저녁에 먹을 저녁 메뉴 추천해줘 토요일 저녁에 먹을 점심 메뉴 추천해줘 아니면 일요일 점심에 먹을 점심 메뉴 추천해 일요일 점심에 \n"
     ]
    }
   ],
   "source": [
    "# 문장 생성\n",
    "generated_ids = model.generate(\n",
    "    input_ids=input_ids,\n",
    "    max_length=128,  # 생성할 문장의 최대 길이 설정\n",
    "    num_beams=5,  # 빔 서치에서 사용할 빔 개수 (선택 사항)\n",
    "    early_stopping=True  # 조기 종료 (선택 사항)\n",
    ")\n",
    "\n",
    "# 생성된 토큰을 텍스트로 변환\n",
    "generated_text = tokenizer.decode(generated_ids[0], skip_special_tokens=True)\n",
    "print(\"Generated text:\", generated_text)"
   ]
  },
  {
   "cell_type": "code",
   "execution_count": 20,
   "id": "ca66bb20",
   "metadata": {
    "execution": {
     "iopub.execute_input": "2024-08-20T10:26:23.621932Z",
     "iopub.status.busy": "2024-08-20T10:26:23.621562Z",
     "iopub.status.idle": "2024-08-20T10:26:26.006702Z",
     "shell.execute_reply": "2024-08-20T10:26:26.005623Z"
    },
    "papermill": {
     "duration": 3.420886,
     "end_time": "2024-08-20T10:26:26.009357",
     "exception": false,
     "start_time": "2024-08-20T10:26:22.588471",
     "status": "completed"
    },
    "tags": []
   },
   "outputs": [
    {
     "name": "stdout",
     "output_type": "stream",
     "text": [
      "Output:\n",
      "----------------------------------------------------------------------------------------------------\n",
      "0: 오늘  나 월요일 오후 근무야 월요일 저녁 메뉴 결정 못하는데 월요일 저녁 메뉴로 괜찮은 시원한 아메리카나 시원한 아메리카나 있으면 점심때 시켜 먹고 저녁에 먹을 메뉴는 아직 없어 그럼 점심에는 뭐 먹을까 고민하다가 아무래도 오늘 저녁은 메뉴를 좀 많이 못 고르겠어 그래서 메뉴 중에는 못 고르겠고 혹시 여자친구 있을라나 아니면은 남자친구 있을라나 모르겠는데 월요일 \n",
      "1: 나 오늘  근데 오늘 저녁 메뉴 선택한 적 없는데 여자친구가 니 저녁 메뉴 피자 피자파스타면 피자 선택한 이유 물어본다 남자친구가 여자친구 저녁 메뉴로 피자 파스타면 어때 남자친구 취향이 분명한데 혹시 아 여자친구 추천 안 한 거 아니야 혹시 피자 파스타면 피자 파스타면 여자친구 오늘 저녁 메뉴 피자 파스타면 그걸로 저녁 때우고 싶다는데\n",
      "2: 저녁에 갑자기 찜닭 먹고 싶어갖고 엄마 퇴근해갖고 찜닭 먹고 싶다고 해갖고 내가 허겁지겁 허겁지겁 먹고 싶어갖고 엄마 나 못 먹게 해준다고 해서 못 먹게 하지 마라 아 나 지금 너무 배가 안고파서 엄마 퇴근할 때 찜닭 먹을 건데 그럼 저녁에 찜닭 먹으면 안 돼 혹시 몰라 엄마 혹시 몰라 집에 갈 때 돼 가지고 아빠한테 말해 봤을 \n"
     ]
    }
   ],
   "source": [
    "# 문장 생성 2\n",
    "generated_ids = model.generate(\n",
    "    input_ids,\n",
    "    do_sample=True,\n",
    "    max_length=128,\n",
    "    top_k=10,\n",
    "    top_p=0.95,\n",
    "    num_return_sequences=3\n",
    ")\n",
    "\n",
    "# 생성된 토큰을 텍스트로 변환\n",
    "print(\"Output:\\n\" + 100 * '-')\n",
    "for i, generated_id in enumerate(generated_ids):\n",
    "  print(\"{}: {}\".format(i, tokenizer.decode(generated_id.tolist(), skip_special_tokens=True)))"
   ]
  },
  {
   "cell_type": "code",
   "execution_count": 21,
   "id": "d1d24f92",
   "metadata": {
    "execution": {
     "iopub.execute_input": "2024-08-20T10:26:28.043855Z",
     "iopub.status.busy": "2024-08-20T10:26:28.043483Z",
     "iopub.status.idle": "2024-08-20T10:26:28.048686Z",
     "shell.execute_reply": "2024-08-20T10:26:28.047792Z"
    },
    "papermill": {
     "duration": 1.039519,
     "end_time": "2024-08-20T10:26:28.050600",
     "exception": false,
     "start_time": "2024-08-20T10:26:27.011081",
     "status": "completed"
    },
    "tags": []
   },
   "outputs": [],
   "source": [
    "input_text = \"현대 사회의 가장 큰 문제가 뭐라고 생각해?\"\n",
    "input_ids = tokenizer.encode(input_text, return_tensors='pt').to(device)"
   ]
  },
  {
   "cell_type": "code",
   "execution_count": 22,
   "id": "8f7ea406",
   "metadata": {
    "execution": {
     "iopub.execute_input": "2024-08-20T10:26:30.062521Z",
     "iopub.status.busy": "2024-08-20T10:26:30.062163Z",
     "iopub.status.idle": "2024-08-20T10:26:32.516373Z",
     "shell.execute_reply": "2024-08-20T10:26:32.515388Z"
    },
    "papermill": {
     "duration": 3.435468,
     "end_time": "2024-08-20T10:26:32.518561",
     "exception": false,
     "start_time": "2024-08-20T10:26:29.083093",
     "status": "completed"
    },
    "tags": []
   },
   "outputs": [
    {
     "name": "stdout",
     "output_type": "stream",
     "text": [
      "Generated text: 나는 개인적으로 요즘 사회 문제라고 하면 개인적으로 제일 먼저 생각하는 건 빈부 격차 아닐까 개인적으로는 요즘 사회의 가장 큰 문제라고 생각해 사회의 가장 큰 문제라고 하면 개인적으로는 빈부 격차 아닐까 개인적으로는 요즘 사회의 가장 큰 문제라고 생각해 사회의 가장 큰 문제라고 하면 개인적으로는 부 분배의 문제라고 생각해 그럼 개인적으로는 \n"
     ]
    }
   ],
   "source": [
    "# 문장 생성\n",
    "generated_ids = model.generate(\n",
    "    input_ids=input_ids,\n",
    "    max_length=128,  # 생성할 문장의 최대 길이 설정\n",
    "    num_beams=5,  # 빔 서치에서 사용할 빔 개수 (선택 사항)\n",
    "    early_stopping=True  # 조기 종료 (선택 사항)\n",
    ")\n",
    "\n",
    "# 생성된 토큰을 텍스트로 변환\n",
    "generated_text = tokenizer.decode(generated_ids[0], skip_special_tokens=True)\n",
    "print(\"Generated text:\", generated_text)"
   ]
  },
  {
   "cell_type": "code",
   "execution_count": 23,
   "id": "4c22ef4a",
   "metadata": {
    "execution": {
     "iopub.execute_input": "2024-08-20T10:26:34.540610Z",
     "iopub.status.busy": "2024-08-20T10:26:34.539946Z",
     "iopub.status.idle": "2024-08-20T10:26:36.864571Z",
     "shell.execute_reply": "2024-08-20T10:26:36.863567Z"
    },
    "papermill": {
     "duration": 3.36269,
     "end_time": "2024-08-20T10:26:36.866897",
     "exception": false,
     "start_time": "2024-08-20T10:26:33.504207",
     "status": "completed"
    },
    "tags": []
   },
   "outputs": [
    {
     "name": "stdout",
     "output_type": "stream",
     "text": [
      "Output:\n",
      "----------------------------------------------------------------------------------------------------\n",
      "0: 내가 개인적으로 생각하기에는 자본주의가 성립 안 된 진짜 이유라고 생각을 하는 것들이 있는데 그게 어떻게 보면 딱 봤을 때 성립 안 된 자본주의의 산물이라고 생각을 하거든 그 자본주의가 어떻게 보면 어느 사회 속에서 살아가는 데 가장 필수적이라고 생각을 하는데 그럼에도 불구하고 자본주의가 성립 안 된 데에는 분명히 문제점들이 분명 존재한다고 생각을 하는데 \n",
      "1: 나는 개인적으로 요즘 사회 문제라고 하면 정말 딱 떠오르는 게 빈부 격차 이거 아닐까 라고 생각하거든 사회 초년생 같은 사람들이 사회 초년생들에 비해서 생활이 어떤지 모르겠는데 사회 초년생들이 정말 생활하기 불편한 점이 생활하기에 불편하게 느껴지는 거야 인간의 존엄성에 대한 문제랄까 인간의 존엄성이란 건 정말 무시할 수 없는 그런 거라고 생각하거든 사회 \n",
      "2: 난 개인적으로 인간의 존엄성에 대해서 생각을 하고 있다고 생각해 그게 물론 물질적으로 인간이 존엄해야 하지만 그럼에도 인간이 존엄 그 그 무엇일 지 그걸 구별하지 못하는 현 사회의 문제라고 생각을 하거든 그래서 나는 그런 윤리 관념이나 그런 사회 면 사회의 큰 문제라고 생각을 하고 있다고 생각을 해 개인적으로는 인간의 존엄성에 \n"
     ]
    }
   ],
   "source": [
    "# 문장 생성 2\n",
    "generated_ids = model.generate(\n",
    "    input_ids,\n",
    "    do_sample=True,\n",
    "    max_length=128,\n",
    "    top_k=10,\n",
    "    top_p=0.95,\n",
    "    num_return_sequences=3\n",
    ")\n",
    "\n",
    "# 생성된 토큰을 텍스트로 변환\n",
    "print(\"Output:\\n\" + 100 * '-')\n",
    "for i, generated_id in enumerate(generated_ids):\n",
    "  print(\"{}: {}\".format(i, tokenizer.decode(generated_id.tolist(), skip_special_tokens=True)))"
   ]
  },
  {
   "cell_type": "code",
   "execution_count": null,
   "id": "ed783a1c",
   "metadata": {
    "papermill": {
     "duration": 0.97446,
     "end_time": "2024-08-20T10:26:38.883886",
     "exception": false,
     "start_time": "2024-08-20T10:26:37.909426",
     "status": "completed"
    },
    "tags": []
   },
   "outputs": [],
   "source": []
  }
 ],
 "metadata": {
  "kaggle": {
   "accelerator": "gpu",
   "dataSources": [
    {
     "datasetId": 5559498,
     "sourceId": 9196064,
     "sourceType": "datasetVersion"
    }
   ],
   "dockerImageVersionId": 30747,
   "isGpuEnabled": true,
   "isInternetEnabled": true,
   "language": "python",
   "sourceType": "notebook"
  },
  "kernelspec": {
   "display_name": "Python 3.10.6 64-bit ('3.10.6')",
   "language": "python",
   "name": "python3"
  },
  "language_info": {
   "codemirror_mode": {
    "name": "ipython",
    "version": 3
   },
   "file_extension": ".py",
   "mimetype": "text/x-python",
   "name": "python",
   "nbconvert_exporter": "python",
   "pygments_lexer": "ipython3",
   "version": "3.10.6"
  },
  "papermill": {
   "default_parameters": {},
   "duration": 2550.246269,
   "end_time": "2024-08-20T10:26:42.651909",
   "environment_variables": {},
   "exception": null,
   "input_path": "__notebook__.ipynb",
   "output_path": "__notebook__.ipynb",
   "parameters": {},
   "start_time": "2024-08-20T09:44:12.405640",
   "version": "2.5.0"
  },
  "vscode": {
   "interpreter": {
    "hash": "a6bbcf36dc5df263ca68502d6771d4ac689cc117f1ed616cc5072a0f313fc5b7"
   }
  },
  "widgets": {
   "application/vnd.jupyter.widget-state+json": {
    "state": {
     "002a86fd00f340c8b8342658c7d6917b": {
      "model_module": "@jupyter-widgets/controls",
      "model_module_version": "1.5.0",
      "model_name": "ProgressStyleModel",
      "state": {
       "_model_module": "@jupyter-widgets/controls",
       "_model_module_version": "1.5.0",
       "_model_name": "ProgressStyleModel",
       "_view_count": null,
       "_view_module": "@jupyter-widgets/base",
       "_view_module_version": "1.2.0",
       "_view_name": "StyleView",
       "bar_color": null,
       "description_width": ""
      }
     },
     "0215600fe64a43c2a84e54a4bf26a45d": {
      "model_module": "@jupyter-widgets/controls",
      "model_module_version": "1.5.0",
      "model_name": "ProgressStyleModel",
      "state": {
       "_model_module": "@jupyter-widgets/controls",
       "_model_module_version": "1.5.0",
       "_model_name": "ProgressStyleModel",
       "_view_count": null,
       "_view_module": "@jupyter-widgets/base",
       "_view_module_version": "1.2.0",
       "_view_name": "StyleView",
       "bar_color": null,
       "description_width": ""
      }
     },
     "0609c38e1beb47d7a1407fa935d6133b": {
      "model_module": "@jupyter-widgets/controls",
      "model_module_version": "1.5.0",
      "model_name": "ProgressStyleModel",
      "state": {
       "_model_module": "@jupyter-widgets/controls",
       "_model_module_version": "1.5.0",
       "_model_name": "ProgressStyleModel",
       "_view_count": null,
       "_view_module": "@jupyter-widgets/base",
       "_view_module_version": "1.2.0",
       "_view_name": "StyleView",
       "bar_color": null,
       "description_width": ""
      }
     },
     "0932d4607c274468b9334ad996214cfb": {
      "model_module": "@jupyter-widgets/controls",
      "model_module_version": "1.5.0",
      "model_name": "HTMLModel",
      "state": {
       "_dom_classes": [],
       "_model_module": "@jupyter-widgets/controls",
       "_model_module_version": "1.5.0",
       "_model_name": "HTMLModel",
       "_view_count": null,
       "_view_module": "@jupyter-widgets/controls",
       "_view_module_version": "1.5.0",
       "_view_name": "HTMLView",
       "description": "",
       "description_tooltip": null,
       "layout": "IPY_MODEL_92f3f8199ad0415b8c573dffcbac39c7",
       "placeholder": "​",
       "style": "IPY_MODEL_8826e65ac3bd43a4a15659a44d36174d",
       "value": " 67.0/67.0 [00:00&lt;00:00, 4.49kB/s]"
      }
     },
     "0acf2c002a214161b284797edf6fbb23": {
      "model_module": "@jupyter-widgets/controls",
      "model_module_version": "1.5.0",
      "model_name": "HTMLModel",
      "state": {
       "_dom_classes": [],
       "_model_module": "@jupyter-widgets/controls",
       "_model_module_version": "1.5.0",
       "_model_name": "HTMLModel",
       "_view_count": null,
       "_view_module": "@jupyter-widgets/controls",
       "_view_module_version": "1.5.0",
       "_view_name": "HTMLView",
       "description": "",
       "description_tooltip": null,
       "layout": "IPY_MODEL_4c82b02cc7ca4196983107b49c08e720",
       "placeholder": "​",
       "style": "IPY_MODEL_3a30b34dc1364fd993c2e7163a4fdbc4",
       "value": " 209/209 [00:00&lt;00:00, 19.0kB/s]"
      }
     },
     "10ce8b8d68e74ebd942f0130f2f53229": {
      "model_module": "@jupyter-widgets/controls",
      "model_module_version": "1.5.0",
      "model_name": "ProgressStyleModel",
      "state": {
       "_model_module": "@jupyter-widgets/controls",
       "_model_module_version": "1.5.0",
       "_model_name": "ProgressStyleModel",
       "_view_count": null,
       "_view_module": "@jupyter-widgets/base",
       "_view_module_version": "1.2.0",
       "_view_name": "StyleView",
       "bar_color": null,
       "description_width": ""
      }
     },
     "11720b697e3c43deb1ce5c4924bb3929": {
      "model_module": "@jupyter-widgets/controls",
      "model_module_version": "1.5.0",
      "model_name": "FloatProgressModel",
      "state": {
       "_dom_classes": [],
       "_model_module": "@jupyter-widgets/controls",
       "_model_module_version": "1.5.0",
       "_model_name": "FloatProgressModel",
       "_view_count": null,
       "_view_module": "@jupyter-widgets/controls",
       "_view_module_version": "1.5.0",
       "_view_name": "ProgressView",
       "bar_style": "success",
       "description": "",
       "description_tooltip": null,
       "layout": "IPY_MODEL_526e407b6ccb4b4dae78302f59cbb68d",
       "max": 728,
       "min": 0,
       "orientation": "horizontal",
       "style": "IPY_MODEL_0609c38e1beb47d7a1407fa935d6133b",
       "value": 728
      }
     },
     "20d00da8dc784d048bc575e55f21781a": {
      "model_module": "@jupyter-widgets/controls",
      "model_module_version": "1.5.0",
      "model_name": "HBoxModel",
      "state": {
       "_dom_classes": [],
       "_model_module": "@jupyter-widgets/controls",
       "_model_module_version": "1.5.0",
       "_model_name": "HBoxModel",
       "_view_count": null,
       "_view_module": "@jupyter-widgets/controls",
       "_view_module_version": "1.5.0",
       "_view_name": "HBoxView",
       "box_style": "",
       "children": [
        "IPY_MODEL_a173d36176b84c489ffc5b5775600c1a",
        "IPY_MODEL_7905df63d6a14fecb5a9bffbdaec088c",
        "IPY_MODEL_6095c83954684b889508b84636b32886"
       ],
       "layout": "IPY_MODEL_f314e351d852459cbfe0e06d4eb4d050"
      }
     },
     "22be4c0b4bcc431780cace2ccdc742c5": {
      "model_module": "@jupyter-widgets/controls",
      "model_module_version": "1.5.0",
      "model_name": "FloatProgressModel",
      "state": {
       "_dom_classes": [],
       "_model_module": "@jupyter-widgets/controls",
       "_model_module_version": "1.5.0",
       "_model_name": "FloatProgressModel",
       "_view_count": null,
       "_view_module": "@jupyter-widgets/controls",
       "_view_module_version": "1.5.0",
       "_view_name": "ProgressView",
       "bar_style": "success",
       "description": "",
       "description_tooltip": null,
       "layout": "IPY_MODEL_544e885082a144aaaea9b5fcb967329e",
       "max": 209,
       "min": 0,
       "orientation": "horizontal",
       "style": "IPY_MODEL_10ce8b8d68e74ebd942f0130f2f53229",
       "value": 209
      }
     },
     "2ae48c0f4afe4282920ba6610a574b70": {
      "model_module": "@jupyter-widgets/controls",
      "model_module_version": "1.5.0",
      "model_name": "DescriptionStyleModel",
      "state": {
       "_model_module": "@jupyter-widgets/controls",
       "_model_module_version": "1.5.0",
       "_model_name": "DescriptionStyleModel",
       "_view_count": null,
       "_view_module": "@jupyter-widgets/base",
       "_view_module_version": "1.2.0",
       "_view_name": "StyleView",
       "description_width": ""
      }
     },
     "2d97210285dd45da9abf82eb939e978b": {
      "model_module": "@jupyter-widgets/base",
      "model_module_version": "1.2.0",
      "model_name": "LayoutModel",
      "state": {
       "_model_module": "@jupyter-widgets/base",
       "_model_module_version": "1.2.0",
       "_model_name": "LayoutModel",
       "_view_count": null,
       "_view_module": "@jupyter-widgets/base",
       "_view_module_version": "1.2.0",
       "_view_name": "LayoutView",
       "align_content": null,
       "align_items": null,
       "align_self": null,
       "border": null,
       "bottom": null,
       "display": null,
       "flex": null,
       "flex_flow": null,
       "grid_area": null,
       "grid_auto_columns": null,
       "grid_auto_flow": null,
       "grid_auto_rows": null,
       "grid_column": null,
       "grid_gap": null,
       "grid_row": null,
       "grid_template_areas": null,
       "grid_template_columns": null,
       "grid_template_rows": null,
       "height": null,
       "justify_content": null,
       "justify_items": null,
       "left": null,
       "margin": null,
       "max_height": null,
       "max_width": null,
       "min_height": null,
       "min_width": null,
       "object_fit": null,
       "object_position": null,
       "order": null,
       "overflow": null,
       "overflow_x": null,
       "overflow_y": null,
       "padding": null,
       "right": null,
       "top": null,
       "visibility": null,
       "width": null
      }
     },
     "39bed568892143be811da0d7ba4bba04": {
      "model_module": "@jupyter-widgets/controls",
      "model_module_version": "1.5.0",
      "model_name": "DescriptionStyleModel",
      "state": {
       "_model_module": "@jupyter-widgets/controls",
       "_model_module_version": "1.5.0",
       "_model_name": "DescriptionStyleModel",
       "_view_count": null,
       "_view_module": "@jupyter-widgets/base",
       "_view_module_version": "1.2.0",
       "_view_name": "StyleView",
       "description_width": ""
      }
     },
     "3a30b34dc1364fd993c2e7163a4fdbc4": {
      "model_module": "@jupyter-widgets/controls",
      "model_module_version": "1.5.0",
      "model_name": "DescriptionStyleModel",
      "state": {
       "_model_module": "@jupyter-widgets/controls",
       "_model_module_version": "1.5.0",
       "_model_name": "DescriptionStyleModel",
       "_view_count": null,
       "_view_module": "@jupyter-widgets/base",
       "_view_module_version": "1.2.0",
       "_view_name": "StyleView",
       "description_width": ""
      }
     },
     "45699da6f6f84a62b727df8768143a43": {
      "model_module": "@jupyter-widgets/base",
      "model_module_version": "1.2.0",
      "model_name": "LayoutModel",
      "state": {
       "_model_module": "@jupyter-widgets/base",
       "_model_module_version": "1.2.0",
       "_model_name": "LayoutModel",
       "_view_count": null,
       "_view_module": "@jupyter-widgets/base",
       "_view_module_version": "1.2.0",
       "_view_name": "LayoutView",
       "align_content": null,
       "align_items": null,
       "align_self": null,
       "border": null,
       "bottom": null,
       "display": null,
       "flex": null,
       "flex_flow": null,
       "grid_area": null,
       "grid_auto_columns": null,
       "grid_auto_flow": null,
       "grid_auto_rows": null,
       "grid_column": null,
       "grid_gap": null,
       "grid_row": null,
       "grid_template_areas": null,
       "grid_template_columns": null,
       "grid_template_rows": null,
       "height": null,
       "justify_content": null,
       "justify_items": null,
       "left": null,
       "margin": null,
       "max_height": null,
       "max_width": null,
       "min_height": null,
       "min_width": null,
       "object_fit": null,
       "object_position": null,
       "order": null,
       "overflow": null,
       "overflow_x": null,
       "overflow_y": null,
       "padding": null,
       "right": null,
       "top": null,
       "visibility": null,
       "width": null
      }
     },
     "4c82b02cc7ca4196983107b49c08e720": {
      "model_module": "@jupyter-widgets/base",
      "model_module_version": "1.2.0",
      "model_name": "LayoutModel",
      "state": {
       "_model_module": "@jupyter-widgets/base",
       "_model_module_version": "1.2.0",
       "_model_name": "LayoutModel",
       "_view_count": null,
       "_view_module": "@jupyter-widgets/base",
       "_view_module_version": "1.2.0",
       "_view_name": "LayoutView",
       "align_content": null,
       "align_items": null,
       "align_self": null,
       "border": null,
       "bottom": null,
       "display": null,
       "flex": null,
       "flex_flow": null,
       "grid_area": null,
       "grid_auto_columns": null,
       "grid_auto_flow": null,
       "grid_auto_rows": null,
       "grid_column": null,
       "grid_gap": null,
       "grid_row": null,
       "grid_template_areas": null,
       "grid_template_columns": null,
       "grid_template_rows": null,
       "height": null,
       "justify_content": null,
       "justify_items": null,
       "left": null,
       "margin": null,
       "max_height": null,
       "max_width": null,
       "min_height": null,
       "min_width": null,
       "object_fit": null,
       "object_position": null,
       "order": null,
       "overflow": null,
       "overflow_x": null,
       "overflow_y": null,
       "padding": null,
       "right": null,
       "top": null,
       "visibility": null,
       "width": null
      }
     },
     "5234120e8087480194a3f9eea77bcf14": {
      "model_module": "@jupyter-widgets/controls",
      "model_module_version": "1.5.0",
      "model_name": "DescriptionStyleModel",
      "state": {
       "_model_module": "@jupyter-widgets/controls",
       "_model_module_version": "1.5.0",
       "_model_name": "DescriptionStyleModel",
       "_view_count": null,
       "_view_module": "@jupyter-widgets/base",
       "_view_module_version": "1.2.0",
       "_view_name": "StyleView",
       "description_width": ""
      }
     },
     "526e407b6ccb4b4dae78302f59cbb68d": {
      "model_module": "@jupyter-widgets/base",
      "model_module_version": "1.2.0",
      "model_name": "LayoutModel",
      "state": {
       "_model_module": "@jupyter-widgets/base",
       "_model_module_version": "1.2.0",
       "_model_name": "LayoutModel",
       "_view_count": null,
       "_view_module": "@jupyter-widgets/base",
       "_view_module_version": "1.2.0",
       "_view_name": "LayoutView",
       "align_content": null,
       "align_items": null,
       "align_self": null,
       "border": null,
       "bottom": null,
       "display": null,
       "flex": null,
       "flex_flow": null,
       "grid_area": null,
       "grid_auto_columns": null,
       "grid_auto_flow": null,
       "grid_auto_rows": null,
       "grid_column": null,
       "grid_gap": null,
       "grid_row": null,
       "grid_template_areas": null,
       "grid_template_columns": null,
       "grid_template_rows": null,
       "height": null,
       "justify_content": null,
       "justify_items": null,
       "left": null,
       "margin": null,
       "max_height": null,
       "max_width": null,
       "min_height": null,
       "min_width": null,
       "object_fit": null,
       "object_position": null,
       "order": null,
       "overflow": null,
       "overflow_x": null,
       "overflow_y": null,
       "padding": null,
       "right": null,
       "top": null,
       "visibility": null,
       "width": null
      }
     },
     "544e885082a144aaaea9b5fcb967329e": {
      "model_module": "@jupyter-widgets/base",
      "model_module_version": "1.2.0",
      "model_name": "LayoutModel",
      "state": {
       "_model_module": "@jupyter-widgets/base",
       "_model_module_version": "1.2.0",
       "_model_name": "LayoutModel",
       "_view_count": null,
       "_view_module": "@jupyter-widgets/base",
       "_view_module_version": "1.2.0",
       "_view_name": "LayoutView",
       "align_content": null,
       "align_items": null,
       "align_self": null,
       "border": null,
       "bottom": null,
       "display": null,
       "flex": null,
       "flex_flow": null,
       "grid_area": null,
       "grid_auto_columns": null,
       "grid_auto_flow": null,
       "grid_auto_rows": null,
       "grid_column": null,
       "grid_gap": null,
       "grid_row": null,
       "grid_template_areas": null,
       "grid_template_columns": null,
       "grid_template_rows": null,
       "height": null,
       "justify_content": null,
       "justify_items": null,
       "left": null,
       "margin": null,
       "max_height": null,
       "max_width": null,
       "min_height": null,
       "min_width": null,
       "object_fit": null,
       "object_position": null,
       "order": null,
       "overflow": null,
       "overflow_x": null,
       "overflow_y": null,
       "padding": null,
       "right": null,
       "top": null,
       "visibility": null,
       "width": null
      }
     },
     "5d56229d42064cdb9495cc56ef750939": {
      "model_module": "@jupyter-widgets/controls",
      "model_module_version": "1.5.0",
      "model_name": "HBoxModel",
      "state": {
       "_dom_classes": [],
       "_model_module": "@jupyter-widgets/controls",
       "_model_module_version": "1.5.0",
       "_model_name": "HBoxModel",
       "_view_count": null,
       "_view_module": "@jupyter-widgets/controls",
       "_view_module_version": "1.5.0",
       "_view_name": "HBoxView",
       "box_style": "",
       "children": [
        "IPY_MODEL_d6018bf760114a5686ef0f51b0e8cb8b",
        "IPY_MODEL_22be4c0b4bcc431780cace2ccdc742c5",
        "IPY_MODEL_0acf2c002a214161b284797edf6fbb23"
       ],
       "layout": "IPY_MODEL_8d942a57b89e47a0967f4457bbe37076"
      }
     },
     "6095c83954684b889508b84636b32886": {
      "model_module": "@jupyter-widgets/controls",
      "model_module_version": "1.5.0",
      "model_name": "HTMLModel",
      "state": {
       "_dom_classes": [],
       "_model_module": "@jupyter-widgets/controls",
       "_model_module_version": "1.5.0",
       "_model_name": "HTMLModel",
       "_view_count": null,
       "_view_module": "@jupyter-widgets/controls",
       "_view_module_version": "1.5.0",
       "_view_name": "HTMLView",
       "description": "",
       "description_tooltip": null,
       "layout": "IPY_MODEL_c99ca81850824e41a6c8ca3a3832db55",
       "placeholder": "​",
       "style": "IPY_MODEL_aba74ee725a2414387504dc771d60821",
       "value": " 2.90M/2.90M [00:00&lt;00:00, 13.7MB/s]"
      }
     },
     "652d1e9f8c8a4cc38318d1e59b8795d8": {
      "model_module": "@jupyter-widgets/base",
      "model_module_version": "1.2.0",
      "model_name": "LayoutModel",
      "state": {
       "_model_module": "@jupyter-widgets/base",
       "_model_module_version": "1.2.0",
       "_model_name": "LayoutModel",
       "_view_count": null,
       "_view_module": "@jupyter-widgets/base",
       "_view_module_version": "1.2.0",
       "_view_name": "LayoutView",
       "align_content": null,
       "align_items": null,
       "align_self": null,
       "border": null,
       "bottom": null,
       "display": null,
       "flex": null,
       "flex_flow": null,
       "grid_area": null,
       "grid_auto_columns": null,
       "grid_auto_flow": null,
       "grid_auto_rows": null,
       "grid_column": null,
       "grid_gap": null,
       "grid_row": null,
       "grid_template_areas": null,
       "grid_template_columns": null,
       "grid_template_rows": null,
       "height": null,
       "justify_content": null,
       "justify_items": null,
       "left": null,
       "margin": null,
       "max_height": null,
       "max_width": null,
       "min_height": null,
       "min_width": null,
       "object_fit": null,
       "object_position": null,
       "order": null,
       "overflow": null,
       "overflow_x": null,
       "overflow_y": null,
       "padding": null,
       "right": null,
       "top": null,
       "visibility": null,
       "width": null
      }
     },
     "6b3f8ba2e8a147cc83d1ca9aaf59c8bc": {
      "model_module": "@jupyter-widgets/base",
      "model_module_version": "1.2.0",
      "model_name": "LayoutModel",
      "state": {
       "_model_module": "@jupyter-widgets/base",
       "_model_module_version": "1.2.0",
       "_model_name": "LayoutModel",
       "_view_count": null,
       "_view_module": "@jupyter-widgets/base",
       "_view_module_version": "1.2.0",
       "_view_name": "LayoutView",
       "align_content": null,
       "align_items": null,
       "align_self": null,
       "border": null,
       "bottom": null,
       "display": null,
       "flex": null,
       "flex_flow": null,
       "grid_area": null,
       "grid_auto_columns": null,
       "grid_auto_flow": null,
       "grid_auto_rows": null,
       "grid_column": null,
       "grid_gap": null,
       "grid_row": null,
       "grid_template_areas": null,
       "grid_template_columns": null,
       "grid_template_rows": null,
       "height": null,
       "justify_content": null,
       "justify_items": null,
       "left": null,
       "margin": null,
       "max_height": null,
       "max_width": null,
       "min_height": null,
       "min_width": null,
       "object_fit": null,
       "object_position": null,
       "order": null,
       "overflow": null,
       "overflow_x": null,
       "overflow_y": null,
       "padding": null,
       "right": null,
       "top": null,
       "visibility": null,
       "width": null
      }
     },
     "6c2cf541992b478488e63445fd81c765": {
      "model_module": "@jupyter-widgets/base",
      "model_module_version": "1.2.0",
      "model_name": "LayoutModel",
      "state": {
       "_model_module": "@jupyter-widgets/base",
       "_model_module_version": "1.2.0",
       "_model_name": "LayoutModel",
       "_view_count": null,
       "_view_module": "@jupyter-widgets/base",
       "_view_module_version": "1.2.0",
       "_view_name": "LayoutView",
       "align_content": null,
       "align_items": null,
       "align_self": null,
       "border": null,
       "bottom": null,
       "display": null,
       "flex": null,
       "flex_flow": null,
       "grid_area": null,
       "grid_auto_columns": null,
       "grid_auto_flow": null,
       "grid_auto_rows": null,
       "grid_column": null,
       "grid_gap": null,
       "grid_row": null,
       "grid_template_areas": null,
       "grid_template_columns": null,
       "grid_template_rows": null,
       "height": null,
       "justify_content": null,
       "justify_items": null,
       "left": null,
       "margin": null,
       "max_height": null,
       "max_width": null,
       "min_height": null,
       "min_width": null,
       "object_fit": null,
       "object_position": null,
       "order": null,
       "overflow": null,
       "overflow_x": null,
       "overflow_y": null,
       "padding": null,
       "right": null,
       "top": null,
       "visibility": null,
       "width": null
      }
     },
     "6d67caee21c64044a17956414f8ac70e": {
      "model_module": "@jupyter-widgets/base",
      "model_module_version": "1.2.0",
      "model_name": "LayoutModel",
      "state": {
       "_model_module": "@jupyter-widgets/base",
       "_model_module_version": "1.2.0",
       "_model_name": "LayoutModel",
       "_view_count": null,
       "_view_module": "@jupyter-widgets/base",
       "_view_module_version": "1.2.0",
       "_view_name": "LayoutView",
       "align_content": null,
       "align_items": null,
       "align_self": null,
       "border": null,
       "bottom": null,
       "display": null,
       "flex": null,
       "flex_flow": null,
       "grid_area": null,
       "grid_auto_columns": null,
       "grid_auto_flow": null,
       "grid_auto_rows": null,
       "grid_column": null,
       "grid_gap": null,
       "grid_row": null,
       "grid_template_areas": null,
       "grid_template_columns": null,
       "grid_template_rows": null,
       "height": null,
       "justify_content": null,
       "justify_items": null,
       "left": null,
       "margin": null,
       "max_height": null,
       "max_width": null,
       "min_height": null,
       "min_width": null,
       "object_fit": null,
       "object_position": null,
       "order": null,
       "overflow": null,
       "overflow_x": null,
       "overflow_y": null,
       "padding": null,
       "right": null,
       "top": null,
       "visibility": null,
       "width": null
      }
     },
     "6db1fa04a3bf40b8beb6c441d22c4d2b": {
      "model_module": "@jupyter-widgets/controls",
      "model_module_version": "1.5.0",
      "model_name": "ProgressStyleModel",
      "state": {
       "_model_module": "@jupyter-widgets/controls",
       "_model_module_version": "1.5.0",
       "_model_name": "ProgressStyleModel",
       "_view_count": null,
       "_view_module": "@jupyter-widgets/base",
       "_view_module_version": "1.2.0",
       "_view_name": "StyleView",
       "bar_color": null,
       "description_width": ""
      }
     },
     "71735281b4b54a7ca765d862bd47f917": {
      "model_module": "@jupyter-widgets/controls",
      "model_module_version": "1.5.0",
      "model_name": "HBoxModel",
      "state": {
       "_dom_classes": [],
       "_model_module": "@jupyter-widgets/controls",
       "_model_module_version": "1.5.0",
       "_model_name": "HBoxModel",
       "_view_count": null,
       "_view_module": "@jupyter-widgets/controls",
       "_view_module_version": "1.5.0",
       "_view_name": "HBoxView",
       "box_style": "",
       "children": [
        "IPY_MODEL_f4effe0ce9304ee38731da16878a5bc8",
        "IPY_MODEL_f650c19702ea4a728bd87f334fde564e",
        "IPY_MODEL_e1d695c26706437cb9b913401aab7f65"
       ],
       "layout": "IPY_MODEL_45699da6f6f84a62b727df8768143a43"
      }
     },
     "7905df63d6a14fecb5a9bffbdaec088c": {
      "model_module": "@jupyter-widgets/controls",
      "model_module_version": "1.5.0",
      "model_name": "FloatProgressModel",
      "state": {
       "_dom_classes": [],
       "_model_module": "@jupyter-widgets/controls",
       "_model_module_version": "1.5.0",
       "_model_name": "FloatProgressModel",
       "_view_count": null,
       "_view_module": "@jupyter-widgets/controls",
       "_view_module_version": "1.5.0",
       "_view_name": "ProgressView",
       "bar_style": "success",
       "description": "",
       "description_tooltip": null,
       "layout": "IPY_MODEL_a3c4bfdb25114bc9bd0549d921cd214a",
       "max": 2900842,
       "min": 0,
       "orientation": "horizontal",
       "style": "IPY_MODEL_0215600fe64a43c2a84e54a4bf26a45d",
       "value": 2900842
      }
     },
     "7cde6d41fd314cbeaea4bef94b2003a8": {
      "model_module": "@jupyter-widgets/base",
      "model_module_version": "1.2.0",
      "model_name": "LayoutModel",
      "state": {
       "_model_module": "@jupyter-widgets/base",
       "_model_module_version": "1.2.0",
       "_model_name": "LayoutModel",
       "_view_count": null,
       "_view_module": "@jupyter-widgets/base",
       "_view_module_version": "1.2.0",
       "_view_name": "LayoutView",
       "align_content": null,
       "align_items": null,
       "align_self": null,
       "border": null,
       "bottom": null,
       "display": null,
       "flex": null,
       "flex_flow": null,
       "grid_area": null,
       "grid_auto_columns": null,
       "grid_auto_flow": null,
       "grid_auto_rows": null,
       "grid_column": null,
       "grid_gap": null,
       "grid_row": null,
       "grid_template_areas": null,
       "grid_template_columns": null,
       "grid_template_rows": null,
       "height": null,
       "justify_content": null,
       "justify_items": null,
       "left": null,
       "margin": null,
       "max_height": null,
       "max_width": null,
       "min_height": null,
       "min_width": null,
       "object_fit": null,
       "object_position": null,
       "order": null,
       "overflow": null,
       "overflow_x": null,
       "overflow_y": null,
       "padding": null,
       "right": null,
       "top": null,
       "visibility": null,
       "width": null
      }
     },
     "86230a1841384fb6801c1f2313c63db3": {
      "model_module": "@jupyter-widgets/base",
      "model_module_version": "1.2.0",
      "model_name": "LayoutModel",
      "state": {
       "_model_module": "@jupyter-widgets/base",
       "_model_module_version": "1.2.0",
       "_model_name": "LayoutModel",
       "_view_count": null,
       "_view_module": "@jupyter-widgets/base",
       "_view_module_version": "1.2.0",
       "_view_name": "LayoutView",
       "align_content": null,
       "align_items": null,
       "align_self": null,
       "border": null,
       "bottom": null,
       "display": null,
       "flex": null,
       "flex_flow": null,
       "grid_area": null,
       "grid_auto_columns": null,
       "grid_auto_flow": null,
       "grid_auto_rows": null,
       "grid_column": null,
       "grid_gap": null,
       "grid_row": null,
       "grid_template_areas": null,
       "grid_template_columns": null,
       "grid_template_rows": null,
       "height": null,
       "justify_content": null,
       "justify_items": null,
       "left": null,
       "margin": null,
       "max_height": null,
       "max_width": null,
       "min_height": null,
       "min_width": null,
       "object_fit": null,
       "object_position": null,
       "order": null,
       "overflow": null,
       "overflow_x": null,
       "overflow_y": null,
       "padding": null,
       "right": null,
       "top": null,
       "visibility": null,
       "width": null
      }
     },
     "8826e65ac3bd43a4a15659a44d36174d": {
      "model_module": "@jupyter-widgets/controls",
      "model_module_version": "1.5.0",
      "model_name": "DescriptionStyleModel",
      "state": {
       "_model_module": "@jupyter-widgets/controls",
       "_model_module_version": "1.5.0",
       "_model_name": "DescriptionStyleModel",
       "_view_count": null,
       "_view_module": "@jupyter-widgets/base",
       "_view_module_version": "1.2.0",
       "_view_name": "StyleView",
       "description_width": ""
      }
     },
     "8d942a57b89e47a0967f4457bbe37076": {
      "model_module": "@jupyter-widgets/base",
      "model_module_version": "1.2.0",
      "model_name": "LayoutModel",
      "state": {
       "_model_module": "@jupyter-widgets/base",
       "_model_module_version": "1.2.0",
       "_model_name": "LayoutModel",
       "_view_count": null,
       "_view_module": "@jupyter-widgets/base",
       "_view_module_version": "1.2.0",
       "_view_name": "LayoutView",
       "align_content": null,
       "align_items": null,
       "align_self": null,
       "border": null,
       "bottom": null,
       "display": null,
       "flex": null,
       "flex_flow": null,
       "grid_area": null,
       "grid_auto_columns": null,
       "grid_auto_flow": null,
       "grid_auto_rows": null,
       "grid_column": null,
       "grid_gap": null,
       "grid_row": null,
       "grid_template_areas": null,
       "grid_template_columns": null,
       "grid_template_rows": null,
       "height": null,
       "justify_content": null,
       "justify_items": null,
       "left": null,
       "margin": null,
       "max_height": null,
       "max_width": null,
       "min_height": null,
       "min_width": null,
       "object_fit": null,
       "object_position": null,
       "order": null,
       "overflow": null,
       "overflow_x": null,
       "overflow_y": null,
       "padding": null,
       "right": null,
       "top": null,
       "visibility": null,
       "width": null
      }
     },
     "92f3f8199ad0415b8c573dffcbac39c7": {
      "model_module": "@jupyter-widgets/base",
      "model_module_version": "1.2.0",
      "model_name": "LayoutModel",
      "state": {
       "_model_module": "@jupyter-widgets/base",
       "_model_module_version": "1.2.0",
       "_model_name": "LayoutModel",
       "_view_count": null,
       "_view_module": "@jupyter-widgets/base",
       "_view_module_version": "1.2.0",
       "_view_name": "LayoutView",
       "align_content": null,
       "align_items": null,
       "align_self": null,
       "border": null,
       "bottom": null,
       "display": null,
       "flex": null,
       "flex_flow": null,
       "grid_area": null,
       "grid_auto_columns": null,
       "grid_auto_flow": null,
       "grid_auto_rows": null,
       "grid_column": null,
       "grid_gap": null,
       "grid_row": null,
       "grid_template_areas": null,
       "grid_template_columns": null,
       "grid_template_rows": null,
       "height": null,
       "justify_content": null,
       "justify_items": null,
       "left": null,
       "margin": null,
       "max_height": null,
       "max_width": null,
       "min_height": null,
       "min_width": null,
       "object_fit": null,
       "object_position": null,
       "order": null,
       "overflow": null,
       "overflow_x": null,
       "overflow_y": null,
       "padding": null,
       "right": null,
       "top": null,
       "visibility": null,
       "width": null
      }
     },
     "96d2abe8b5144ac782e4a5e4b0ce2210": {
      "model_module": "@jupyter-widgets/controls",
      "model_module_version": "1.5.0",
      "model_name": "DescriptionStyleModel",
      "state": {
       "_model_module": "@jupyter-widgets/controls",
       "_model_module_version": "1.5.0",
       "_model_name": "DescriptionStyleModel",
       "_view_count": null,
       "_view_module": "@jupyter-widgets/base",
       "_view_module_version": "1.2.0",
       "_view_name": "StyleView",
       "description_width": ""
      }
     },
     "9c4575312a9c4b8a8a5e9a53b79c5c01": {
      "model_module": "@jupyter-widgets/controls",
      "model_module_version": "1.5.0",
      "model_name": "DescriptionStyleModel",
      "state": {
       "_model_module": "@jupyter-widgets/controls",
       "_model_module_version": "1.5.0",
       "_model_name": "DescriptionStyleModel",
       "_view_count": null,
       "_view_module": "@jupyter-widgets/base",
       "_view_module_version": "1.2.0",
       "_view_name": "StyleView",
       "description_width": ""
      }
     },
     "9e5dd12c277f4f799bbfb89eb6931366": {
      "model_module": "@jupyter-widgets/controls",
      "model_module_version": "1.5.0",
      "model_name": "DescriptionStyleModel",
      "state": {
       "_model_module": "@jupyter-widgets/controls",
       "_model_module_version": "1.5.0",
       "_model_name": "DescriptionStyleModel",
       "_view_count": null,
       "_view_module": "@jupyter-widgets/base",
       "_view_module_version": "1.2.0",
       "_view_name": "StyleView",
       "description_width": ""
      }
     },
     "a173d36176b84c489ffc5b5775600c1a": {
      "model_module": "@jupyter-widgets/controls",
      "model_module_version": "1.5.0",
      "model_name": "HTMLModel",
      "state": {
       "_dom_classes": [],
       "_model_module": "@jupyter-widgets/controls",
       "_model_module_version": "1.5.0",
       "_model_name": "HTMLModel",
       "_view_count": null,
       "_view_module": "@jupyter-widgets/controls",
       "_view_module_version": "1.5.0",
       "_view_name": "HTMLView",
       "description": "",
       "description_tooltip": null,
       "layout": "IPY_MODEL_7cde6d41fd314cbeaea4bef94b2003a8",
       "placeholder": "​",
       "style": "IPY_MODEL_cb68825a84cb41cb8e725eaf59417a0f",
       "value": "tokenizer.json: 100%"
      }
     },
     "a3b00d4658ef4442873eaa5d06370343": {
      "model_module": "@jupyter-widgets/base",
      "model_module_version": "1.2.0",
      "model_name": "LayoutModel",
      "state": {
       "_model_module": "@jupyter-widgets/base",
       "_model_module_version": "1.2.0",
       "_model_name": "LayoutModel",
       "_view_count": null,
       "_view_module": "@jupyter-widgets/base",
       "_view_module_version": "1.2.0",
       "_view_name": "LayoutView",
       "align_content": null,
       "align_items": null,
       "align_self": null,
       "border": null,
       "bottom": null,
       "display": null,
       "flex": null,
       "flex_flow": null,
       "grid_area": null,
       "grid_auto_columns": null,
       "grid_auto_flow": null,
       "grid_auto_rows": null,
       "grid_column": null,
       "grid_gap": null,
       "grid_row": null,
       "grid_template_areas": null,
       "grid_template_columns": null,
       "grid_template_rows": null,
       "height": null,
       "justify_content": null,
       "justify_items": null,
       "left": null,
       "margin": null,
       "max_height": null,
       "max_width": null,
       "min_height": null,
       "min_width": null,
       "object_fit": null,
       "object_position": null,
       "order": null,
       "overflow": null,
       "overflow_x": null,
       "overflow_y": null,
       "padding": null,
       "right": null,
       "top": null,
       "visibility": null,
       "width": null
      }
     },
     "a3c4bfdb25114bc9bd0549d921cd214a": {
      "model_module": "@jupyter-widgets/base",
      "model_module_version": "1.2.0",
      "model_name": "LayoutModel",
      "state": {
       "_model_module": "@jupyter-widgets/base",
       "_model_module_version": "1.2.0",
       "_model_name": "LayoutModel",
       "_view_count": null,
       "_view_module": "@jupyter-widgets/base",
       "_view_module_version": "1.2.0",
       "_view_name": "LayoutView",
       "align_content": null,
       "align_items": null,
       "align_self": null,
       "border": null,
       "bottom": null,
       "display": null,
       "flex": null,
       "flex_flow": null,
       "grid_area": null,
       "grid_auto_columns": null,
       "grid_auto_flow": null,
       "grid_auto_rows": null,
       "grid_column": null,
       "grid_gap": null,
       "grid_row": null,
       "grid_template_areas": null,
       "grid_template_columns": null,
       "grid_template_rows": null,
       "height": null,
       "justify_content": null,
       "justify_items": null,
       "left": null,
       "margin": null,
       "max_height": null,
       "max_width": null,
       "min_height": null,
       "min_width": null,
       "object_fit": null,
       "object_position": null,
       "order": null,
       "overflow": null,
       "overflow_x": null,
       "overflow_y": null,
       "padding": null,
       "right": null,
       "top": null,
       "visibility": null,
       "width": null
      }
     },
     "aaebaddb8a294f57b5ed856b39f880f7": {
      "model_module": "@jupyter-widgets/controls",
      "model_module_version": "1.5.0",
      "model_name": "HBoxModel",
      "state": {
       "_dom_classes": [],
       "_model_module": "@jupyter-widgets/controls",
       "_model_module_version": "1.5.0",
       "_model_name": "HBoxModel",
       "_view_count": null,
       "_view_module": "@jupyter-widgets/controls",
       "_view_module_version": "1.5.0",
       "_view_name": "HBoxView",
       "box_style": "",
       "children": [
        "IPY_MODEL_b05394980a50451c906807481c439857",
        "IPY_MODEL_11720b697e3c43deb1ce5c4924bb3929",
        "IPY_MODEL_c0a363ac88b1428da866113d056337a2"
       ],
       "layout": "IPY_MODEL_e5311a8836c047b2b9f89a9ba38d7785"
      }
     },
     "aba74ee725a2414387504dc771d60821": {
      "model_module": "@jupyter-widgets/controls",
      "model_module_version": "1.5.0",
      "model_name": "DescriptionStyleModel",
      "state": {
       "_model_module": "@jupyter-widgets/controls",
       "_model_module_version": "1.5.0",
       "_model_name": "DescriptionStyleModel",
       "_view_count": null,
       "_view_module": "@jupyter-widgets/base",
       "_view_module_version": "1.2.0",
       "_view_name": "StyleView",
       "description_width": ""
      }
     },
     "b05394980a50451c906807481c439857": {
      "model_module": "@jupyter-widgets/controls",
      "model_module_version": "1.5.0",
      "model_name": "HTMLModel",
      "state": {
       "_dom_classes": [],
       "_model_module": "@jupyter-widgets/controls",
       "_model_module_version": "1.5.0",
       "_model_name": "HTMLModel",
       "_view_count": null,
       "_view_module": "@jupyter-widgets/controls",
       "_view_module_version": "1.5.0",
       "_view_name": "HTMLView",
       "description": "",
       "description_tooltip": null,
       "layout": "IPY_MODEL_652d1e9f8c8a4cc38318d1e59b8795d8",
       "placeholder": "​",
       "style": "IPY_MODEL_2ae48c0f4afe4282920ba6610a574b70",
       "value": "config.json: 100%"
      }
     },
     "c0a363ac88b1428da866113d056337a2": {
      "model_module": "@jupyter-widgets/controls",
      "model_module_version": "1.5.0",
      "model_name": "HTMLModel",
      "state": {
       "_dom_classes": [],
       "_model_module": "@jupyter-widgets/controls",
       "_model_module_version": "1.5.0",
       "_model_name": "HTMLModel",
       "_view_count": null,
       "_view_module": "@jupyter-widgets/controls",
       "_view_module_version": "1.5.0",
       "_view_name": "HTMLView",
       "description": "",
       "description_tooltip": null,
       "layout": "IPY_MODEL_a3b00d4658ef4442873eaa5d06370343",
       "placeholder": "​",
       "style": "IPY_MODEL_9c4575312a9c4b8a8a5e9a53b79c5c01",
       "value": " 728/728 [00:00&lt;00:00, 65.9kB/s]"
      }
     },
     "c4cf8436f6c74cccb4372f983d83264c": {
      "model_module": "@jupyter-widgets/controls",
      "model_module_version": "1.5.0",
      "model_name": "HTMLModel",
      "state": {
       "_dom_classes": [],
       "_model_module": "@jupyter-widgets/controls",
       "_model_module_version": "1.5.0",
       "_model_name": "HTMLModel",
       "_view_count": null,
       "_view_module": "@jupyter-widgets/controls",
       "_view_module_version": "1.5.0",
       "_view_name": "HTMLView",
       "description": "",
       "description_tooltip": null,
       "layout": "IPY_MODEL_2d97210285dd45da9abf82eb939e978b",
       "placeholder": "​",
       "style": "IPY_MODEL_5234120e8087480194a3f9eea77bcf14",
       "value": "special_tokens_map.json: 100%"
      }
     },
     "c99ca81850824e41a6c8ca3a3832db55": {
      "model_module": "@jupyter-widgets/base",
      "model_module_version": "1.2.0",
      "model_name": "LayoutModel",
      "state": {
       "_model_module": "@jupyter-widgets/base",
       "_model_module_version": "1.2.0",
       "_model_name": "LayoutModel",
       "_view_count": null,
       "_view_module": "@jupyter-widgets/base",
       "_view_module_version": "1.2.0",
       "_view_name": "LayoutView",
       "align_content": null,
       "align_items": null,
       "align_self": null,
       "border": null,
       "bottom": null,
       "display": null,
       "flex": null,
       "flex_flow": null,
       "grid_area": null,
       "grid_auto_columns": null,
       "grid_auto_flow": null,
       "grid_auto_rows": null,
       "grid_column": null,
       "grid_gap": null,
       "grid_row": null,
       "grid_template_areas": null,
       "grid_template_columns": null,
       "grid_template_rows": null,
       "height": null,
       "justify_content": null,
       "justify_items": null,
       "left": null,
       "margin": null,
       "max_height": null,
       "max_width": null,
       "min_height": null,
       "min_width": null,
       "object_fit": null,
       "object_position": null,
       "order": null,
       "overflow": null,
       "overflow_x": null,
       "overflow_y": null,
       "padding": null,
       "right": null,
       "top": null,
       "visibility": null,
       "width": null
      }
     },
     "cb68825a84cb41cb8e725eaf59417a0f": {
      "model_module": "@jupyter-widgets/controls",
      "model_module_version": "1.5.0",
      "model_name": "DescriptionStyleModel",
      "state": {
       "_model_module": "@jupyter-widgets/controls",
       "_model_module_version": "1.5.0",
       "_model_name": "DescriptionStyleModel",
       "_view_count": null,
       "_view_module": "@jupyter-widgets/base",
       "_view_module_version": "1.2.0",
       "_view_name": "StyleView",
       "description_width": ""
      }
     },
     "d39ef74026614470bc8e2a1f4db7dba3": {
      "model_module": "@jupyter-widgets/base",
      "model_module_version": "1.2.0",
      "model_name": "LayoutModel",
      "state": {
       "_model_module": "@jupyter-widgets/base",
       "_model_module_version": "1.2.0",
       "_model_name": "LayoutModel",
       "_view_count": null,
       "_view_module": "@jupyter-widgets/base",
       "_view_module_version": "1.2.0",
       "_view_name": "LayoutView",
       "align_content": null,
       "align_items": null,
       "align_self": null,
       "border": null,
       "bottom": null,
       "display": null,
       "flex": null,
       "flex_flow": null,
       "grid_area": null,
       "grid_auto_columns": null,
       "grid_auto_flow": null,
       "grid_auto_rows": null,
       "grid_column": null,
       "grid_gap": null,
       "grid_row": null,
       "grid_template_areas": null,
       "grid_template_columns": null,
       "grid_template_rows": null,
       "height": null,
       "justify_content": null,
       "justify_items": null,
       "left": null,
       "margin": null,
       "max_height": null,
       "max_width": null,
       "min_height": null,
       "min_width": null,
       "object_fit": null,
       "object_position": null,
       "order": null,
       "overflow": null,
       "overflow_x": null,
       "overflow_y": null,
       "padding": null,
       "right": null,
       "top": null,
       "visibility": null,
       "width": null
      }
     },
     "d6018bf760114a5686ef0f51b0e8cb8b": {
      "model_module": "@jupyter-widgets/controls",
      "model_module_version": "1.5.0",
      "model_name": "HTMLModel",
      "state": {
       "_dom_classes": [],
       "_model_module": "@jupyter-widgets/controls",
       "_model_module_version": "1.5.0",
       "_model_name": "HTMLModel",
       "_view_count": null,
       "_view_module": "@jupyter-widgets/controls",
       "_view_module_version": "1.5.0",
       "_view_name": "HTMLView",
       "description": "",
       "description_tooltip": null,
       "layout": "IPY_MODEL_d39ef74026614470bc8e2a1f4db7dba3",
       "placeholder": "​",
       "style": "IPY_MODEL_9e5dd12c277f4f799bbfb89eb6931366",
       "value": "tokenizer_config.json: 100%"
      }
     },
     "dded7ab4dd6e48de9a390a9d4faf72b6": {
      "model_module": "@jupyter-widgets/controls",
      "model_module_version": "1.5.0",
      "model_name": "FloatProgressModel",
      "state": {
       "_dom_classes": [],
       "_model_module": "@jupyter-widgets/controls",
       "_model_module_version": "1.5.0",
       "_model_name": "FloatProgressModel",
       "_view_count": null,
       "_view_module": "@jupyter-widgets/controls",
       "_view_module_version": "1.5.0",
       "_view_name": "ProgressView",
       "bar_style": "success",
       "description": "",
       "description_tooltip": null,
       "layout": "IPY_MODEL_86230a1841384fb6801c1f2313c63db3",
       "max": 67,
       "min": 0,
       "orientation": "horizontal",
       "style": "IPY_MODEL_002a86fd00f340c8b8342658c7d6917b",
       "value": 67
      }
     },
     "de1c61455db748569388a5bdfbc1677f": {
      "model_module": "@jupyter-widgets/controls",
      "model_module_version": "1.5.0",
      "model_name": "HBoxModel",
      "state": {
       "_dom_classes": [],
       "_model_module": "@jupyter-widgets/controls",
       "_model_module_version": "1.5.0",
       "_model_name": "HBoxModel",
       "_view_count": null,
       "_view_module": "@jupyter-widgets/controls",
       "_view_module_version": "1.5.0",
       "_view_name": "HBoxView",
       "box_style": "",
       "children": [
        "IPY_MODEL_c4cf8436f6c74cccb4372f983d83264c",
        "IPY_MODEL_dded7ab4dd6e48de9a390a9d4faf72b6",
        "IPY_MODEL_0932d4607c274468b9334ad996214cfb"
       ],
       "layout": "IPY_MODEL_faef98f18f884f2393e268cf4f2619e5"
      }
     },
     "e1d695c26706437cb9b913401aab7f65": {
      "model_module": "@jupyter-widgets/controls",
      "model_module_version": "1.5.0",
      "model_name": "HTMLModel",
      "state": {
       "_dom_classes": [],
       "_model_module": "@jupyter-widgets/controls",
       "_model_module_version": "1.5.0",
       "_model_name": "HTMLModel",
       "_view_count": null,
       "_view_module": "@jupyter-widgets/controls",
       "_view_module_version": "1.5.0",
       "_view_name": "HTMLView",
       "description": "",
       "description_tooltip": null,
       "layout": "IPY_MODEL_6d67caee21c64044a17956414f8ac70e",
       "placeholder": "​",
       "style": "IPY_MODEL_39bed568892143be811da0d7ba4bba04",
       "value": " 1.10G/1.10G [00:27&lt;00:00, 41.9MB/s]"
      }
     },
     "e5311a8836c047b2b9f89a9ba38d7785": {
      "model_module": "@jupyter-widgets/base",
      "model_module_version": "1.2.0",
      "model_name": "LayoutModel",
      "state": {
       "_model_module": "@jupyter-widgets/base",
       "_model_module_version": "1.2.0",
       "_model_name": "LayoutModel",
       "_view_count": null,
       "_view_module": "@jupyter-widgets/base",
       "_view_module_version": "1.2.0",
       "_view_name": "LayoutView",
       "align_content": null,
       "align_items": null,
       "align_self": null,
       "border": null,
       "bottom": null,
       "display": null,
       "flex": null,
       "flex_flow": null,
       "grid_area": null,
       "grid_auto_columns": null,
       "grid_auto_flow": null,
       "grid_auto_rows": null,
       "grid_column": null,
       "grid_gap": null,
       "grid_row": null,
       "grid_template_areas": null,
       "grid_template_columns": null,
       "grid_template_rows": null,
       "height": null,
       "justify_content": null,
       "justify_items": null,
       "left": null,
       "margin": null,
       "max_height": null,
       "max_width": null,
       "min_height": null,
       "min_width": null,
       "object_fit": null,
       "object_position": null,
       "order": null,
       "overflow": null,
       "overflow_x": null,
       "overflow_y": null,
       "padding": null,
       "right": null,
       "top": null,
       "visibility": null,
       "width": null
      }
     },
     "f314e351d852459cbfe0e06d4eb4d050": {
      "model_module": "@jupyter-widgets/base",
      "model_module_version": "1.2.0",
      "model_name": "LayoutModel",
      "state": {
       "_model_module": "@jupyter-widgets/base",
       "_model_module_version": "1.2.0",
       "_model_name": "LayoutModel",
       "_view_count": null,
       "_view_module": "@jupyter-widgets/base",
       "_view_module_version": "1.2.0",
       "_view_name": "LayoutView",
       "align_content": null,
       "align_items": null,
       "align_self": null,
       "border": null,
       "bottom": null,
       "display": null,
       "flex": null,
       "flex_flow": null,
       "grid_area": null,
       "grid_auto_columns": null,
       "grid_auto_flow": null,
       "grid_auto_rows": null,
       "grid_column": null,
       "grid_gap": null,
       "grid_row": null,
       "grid_template_areas": null,
       "grid_template_columns": null,
       "grid_template_rows": null,
       "height": null,
       "justify_content": null,
       "justify_items": null,
       "left": null,
       "margin": null,
       "max_height": null,
       "max_width": null,
       "min_height": null,
       "min_width": null,
       "object_fit": null,
       "object_position": null,
       "order": null,
       "overflow": null,
       "overflow_x": null,
       "overflow_y": null,
       "padding": null,
       "right": null,
       "top": null,
       "visibility": null,
       "width": null
      }
     },
     "f4effe0ce9304ee38731da16878a5bc8": {
      "model_module": "@jupyter-widgets/controls",
      "model_module_version": "1.5.0",
      "model_name": "HTMLModel",
      "state": {
       "_dom_classes": [],
       "_model_module": "@jupyter-widgets/controls",
       "_model_module_version": "1.5.0",
       "_model_name": "HTMLModel",
       "_view_count": null,
       "_view_module": "@jupyter-widgets/controls",
       "_view_module_version": "1.5.0",
       "_view_name": "HTMLView",
       "description": "",
       "description_tooltip": null,
       "layout": "IPY_MODEL_6c2cf541992b478488e63445fd81c765",
       "placeholder": "​",
       "style": "IPY_MODEL_96d2abe8b5144ac782e4a5e4b0ce2210",
       "value": "pytorch_model.bin: 100%"
      }
     },
     "f650c19702ea4a728bd87f334fde564e": {
      "model_module": "@jupyter-widgets/controls",
      "model_module_version": "1.5.0",
      "model_name": "FloatProgressModel",
      "state": {
       "_dom_classes": [],
       "_model_module": "@jupyter-widgets/controls",
       "_model_module_version": "1.5.0",
       "_model_name": "FloatProgressModel",
       "_view_count": null,
       "_view_module": "@jupyter-widgets/controls",
       "_view_module_version": "1.5.0",
       "_view_name": "ProgressView",
       "bar_style": "success",
       "description": "",
       "description_tooltip": null,
       "layout": "IPY_MODEL_6b3f8ba2e8a147cc83d1ca9aaf59c8bc",
       "max": 1102407757,
       "min": 0,
       "orientation": "horizontal",
       "style": "IPY_MODEL_6db1fa04a3bf40b8beb6c441d22c4d2b",
       "value": 1102407757
      }
     },
     "faef98f18f884f2393e268cf4f2619e5": {
      "model_module": "@jupyter-widgets/base",
      "model_module_version": "1.2.0",
      "model_name": "LayoutModel",
      "state": {
       "_model_module": "@jupyter-widgets/base",
       "_model_module_version": "1.2.0",
       "_model_name": "LayoutModel",
       "_view_count": null,
       "_view_module": "@jupyter-widgets/base",
       "_view_module_version": "1.2.0",
       "_view_name": "LayoutView",
       "align_content": null,
       "align_items": null,
       "align_self": null,
       "border": null,
       "bottom": null,
       "display": null,
       "flex": null,
       "flex_flow": null,
       "grid_area": null,
       "grid_auto_columns": null,
       "grid_auto_flow": null,
       "grid_auto_rows": null,
       "grid_column": null,
       "grid_gap": null,
       "grid_row": null,
       "grid_template_areas": null,
       "grid_template_columns": null,
       "grid_template_rows": null,
       "height": null,
       "justify_content": null,
       "justify_items": null,
       "left": null,
       "margin": null,
       "max_height": null,
       "max_width": null,
       "min_height": null,
       "min_width": null,
       "object_fit": null,
       "object_position": null,
       "order": null,
       "overflow": null,
       "overflow_x": null,
       "overflow_y": null,
       "padding": null,
       "right": null,
       "top": null,
       "visibility": null,
       "width": null
      }
     }
    },
    "version_major": 2,
    "version_minor": 0
   }
  }
 },
 "nbformat": 4,
 "nbformat_minor": 5
}
